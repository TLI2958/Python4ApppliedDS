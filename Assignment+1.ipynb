{
 "cells": [
  {
   "cell_type": "markdown",
   "metadata": {},
   "source": [
    "---\n",
    "\n",
    "_You are currently looking at **version 1.1** of this notebook. To download notebooks and datafiles, as well as get help on Jupyter notebooks in the Coursera platform, visit the [Jupyter Notebook FAQ](https://www.coursera.org/learn/python-text-mining/resources/d9pwm) course resource._\n",
    "\n",
    "---"
   ]
  },
  {
   "cell_type": "markdown",
   "metadata": {},
   "source": [
    "# Assignment 1\n",
    "\n",
    "In this assignment, you'll be working with messy medical data and using regex to extract relevant infromation from the data. \n",
    "\n",
    "Each line of the `dates.txt` file corresponds to a medical note. Each note has a date that needs to be extracted, but each date is encoded in one of many formats.\n",
    "\n",
    "The goal of this assignment is to correctly identify all of the different date variants encoded in this dataset and to properly normalize and sort the dates. \n",
    "\n",
    "Here is a list of some of the variants you might encounter in this dataset:\n",
    "* 04/20/2009; 04/20/09; 4/20/09; 4/3/09\n",
    "* Mar-20-2009; Mar 20, 2009; March 20, 2009;  Mar. 20, 2009; Mar 20 2009;\n",
    "* 20 Mar 2009; 20 March 2009; 20 Mar. 2009; 20 March, 2009\n",
    "* Mar 20th, 2009; Mar 21st, 2009; Mar 22nd, 2009\n",
    "* Feb 2009; Sep 2009; Oct 2010\n",
    "* 6/2008; 12/2009\n",
    "* 2009; 2010\n",
    "\n",
    "Once you have extracted these date patterns from the text, the next step is to sort them in ascending chronological order accoring to the following rules:\n",
    "* Assume all dates in xx/xx/xx format are mm/dd/yy\n",
    "* Assume all dates where year is encoded in only two digits are years from the 1900's (e.g. 1/5/89 is January 5th, 1989)\n",
    "* If the day is missing (e.g. 9/2009), assume it is the first day of the month (e.g. September 1, 2009).\n",
    "* If the month is missing (e.g. 2010), assume it is the first of January of that year (e.g. January 1, 2010).\n",
    "* Watch out for potential typos as this is a raw, real-life derived dataset.\n",
    "\n",
    "With these rules in mind, find the correct date in each note and return a pandas Series in chronological order of the original Series' indices.\n",
    "\n",
    "For example if the original series was this:\n",
    "\n",
    "    0    1999\n",
    "    1    2010\n",
    "    2    1978\n",
    "    3    2015\n",
    "    4    1985\n",
    "\n",
    "Your function should return this:\n",
    "\n",
    "    0    2\n",
    "    1    4\n",
    "    2    0\n",
    "    3    1\n",
    "    4    3\n",
    "\n",
    "Your score will be calculated using [Kendall's tau](https://en.wikipedia.org/wiki/Kendall_rank_correlation_coefficient), a correlation measure for ordinal data.\n",
    "\n",
    "*This function should return a Series of length 500 and dtype int.*"
   ]
  },
  {
   "cell_type": "code",
   "execution_count": 1,
   "metadata": {
    "collapsed": true
   },
   "outputs": [],
   "source": [
    "import pandas as pd\n",
    "\n",
    "doc = []\n",
    "with open('dates.txt') as file:\n",
    "    for line in file:\n",
    "        doc.append(line)\n",
    "\n",
    "df = pd.Series(doc)\n",
    "df = pd.DataFrame(df.apply(lambda x:x.rstrip()),columns=['text'])"
   ]
  },
  {
   "cell_type": "code",
   "execution_count": 2,
   "metadata": {
    "collapsed": true,
    "scrolled": false
   },
   "outputs": [],
   "source": [
    "# Extract relevant data\n",
    "year_only = df['text'].str.findall(r'\\b[a-z]?[12][09][0-9][0-9]\\b') # Year only\n",
    "nums_dmy2 = df['text'].str.findall(r'\\d{1,2}[/-]\\d{1,2}[/-]\\d{2}\\b') # xx/xx/xx\n",
    "nums_dmy4 = df['text'].str.findall(r'\\d{1,2}[/-]\\d{1,2}[/-]\\d{4}\\b') # xx/xx/xxxx\n",
    "nums_my = df['text'].str.findall(r'\\d{1,2}[/]\\d{4}\\b')\n",
    "num_Jan_Year = df['text'].str.findall(r'\\d{1,2} (?:Jan|Feb|Mar|Apr|May|Jun|Jul|Aug|Sep|Oct|Nov|Dec|January|February|March|April|June|July|August|September|October|November|December)\\\n",
    "[/-]?[,]?[.]? \\d{4}') # xx/Jan/yyyy\n",
    "Jan_num_Year = df['text'].str.findall(r'(?:Jan|Feb|Mar|Apr|May|Jun|Jul|Aug|Sep|Oct|Nov|Dec|January|February|March|April|June|July|August|September|October|November|December)\\\n",
    "[/-]?[,]?[.]? \\d{1,2}[a-z]*[,]?[.]? \\d{4}') # xx/Jan/yyyy\n",
    "Jan_Year = df['text'].str.findall(r'\\b(?:Jan|Feb|Mar|Apr|May|Jun|Jul|Aug|Sep|Oct|Nov|Dec|January|February|March|April|June|July|August|September|October|November|December)\\\n",
    "[/-]?[,]?[.]? \\d{4}\\b') # Jan/Year"
   ]
  },
  {
   "cell_type": "code",
   "execution_count": 3,
   "metadata": {
    "collapsed": true
   },
   "outputs": [],
   "source": [
    "# Re-arrange relevant data\n",
    "import numpy as np\n",
    "YMD = pd.DataFrame(np.vstack([year_only,nums_dmy2,nums_dmy4,nums_my,num_Jan_Year,Jan_num_Year,Jan_Year])).T\n",
    "YMD.rename(columns ={0:'Year_only',1:'mm/dd/yy',2:'mm/dd/yyyy',3:'mm/yyyy',4:'dd/Jan/Year',5:'Jan/dd/Year',6:'Jan/Year'},inplace = True)\n",
    "\n",
    "YMD = pd.DataFrame(YMD[C].apply(lambda x:'N' if len(x) ==0 else x) for C in YMD.columns).T\n",
    "\n",
    "# convert list to string\n",
    "for col in YMD.columns:\n",
    "    for i in np.arange(len(YMD)):\n",
    "        try:\n",
    "            YMD[col][i] = YMD[col][i][0]\n",
    "        except: YMD[col][i] = YMD[col][i]"
   ]
  },
  {
   "cell_type": "code",
   "execution_count": 4,
   "metadata": {
    "collapsed": true
   },
   "outputs": [],
   "source": [
    "# map month to numeric values, create dictionary\n",
    "import calendar\n",
    "mon_to_num = {v:k for k,v in enumerate(calendar.month_abbr) if v}\n",
    "month_to_num = {v:k for k,v in enumerate(calendar.month_name) if v}\n",
    "mon_to_num.update(month_to_num)\n",
    "\n",
    "a = YMD['Jan/dd/Year'][YMD['Jan/dd/Year'] !='N'].str.split(' ').apply(lambda x:x[0]).apply(lambda x:x.rstrip(r'[.-]')).map(mon_to_num)\n",
    "b = YMD['dd/Jan/Year'][YMD['dd/Jan/Year'] !='N'].str.split(' ').apply(lambda x:x[1]).apply(lambda x:x.rstrip(r'[.,-]')).map(mon_to_num)\n",
    "c = YMD['Jan/Year'][YMD['Jan/Year'] !='N'].str.split(' ').apply(lambda x:x[0]).apply(lambda x:x.rstrip(r'[.,-]')).map(mon_to_num)"
   ]
  },
  {
   "cell_type": "code",
   "execution_count": 5,
   "metadata": {
    "collapsed": true
   },
   "outputs": [],
   "source": [
    "# rearrange the format of all days to mm/dd/yy\n",
    "from datetime import datetime\n",
    "\n",
    "\n",
    "YMD['Jan/dd/Year'][YMD['Jan/dd/Year'] !='N'] = YMD['Jan/dd/Year'][YMD['Jan/dd/Year'] !='N'].str.split(' ')\n",
    "YMD['dd/Jan/Year'][YMD['dd/Jan/Year'] !='N'] = YMD['dd/Jan/Year'][YMD['dd/Jan/Year'] !='N'].str.split(' ')\n",
    "YMD['Jan/Year'][YMD['Jan/Year'] !='N'] = YMD['Jan/Year'][YMD['Jan/Year'] !='N'].str.split(' ')\n",
    "YMD['Year_only'][YMD['Year_only']!='N'] = YMD['Year_only'][YMD['Year_only'] !='N'].apply(lambda x:x.strip(r'[ry]')) # why [a-z] not working?\n",
    "# might use datetime.strptime() and datetime.strftime() instead\n",
    "YMD['Year_only'][YMD['Year_only']!='N'] = YMD['Year_only'][YMD['Year_only'] !='N'].apply(lambda x:x[-2:]) # because only yy not yyyy\n",
    "\n",
    "\n",
    "for i in YMD['Jan/dd/Year'][YMD['Jan/dd/Year'] !='N'].index:\n",
    "    YMD['Jan/dd/Year'][i][0] = a[i]\n",
    "    YMD['Jan/dd/Year'][i][1] =  YMD['Jan/dd/Year'][i][1].rstrip(',')\n",
    "    YMD['Jan/dd/Year'][i] = '{}/{}/{}'.format(str(YMD['Jan/dd/Year'][i][0]),str(YMD['Jan/dd/Year'][i][1]),str(YMD['Jan/dd/Year'][i][2][-2:]))\n",
    "\n",
    "for i in YMD['dd/Jan/Year'][YMD['dd/Jan/Year'] !='N'].index:\n",
    "    YMD['dd/Jan/Year'][i][1] = b[i]\n",
    "    YMD['dd/Jan/Year'][i] = '{}/{}/{}'.format(str(YMD['dd/Jan/Year'][i][1]),str(YMD['dd/Jan/Year'][i][0]),str(YMD['dd/Jan/Year'][i][2][-2:]))\n",
    "    \n",
    "for i in YMD['Jan/Year'][YMD['Jan/Year'] !='N'].index:\n",
    "    YMD['Jan/Year'][i][0] = c[i]\n",
    "    YMD['Jan/Year'][i] = '{}/1/{}'.format(str(YMD['Jan/Year'][i][0]),str(YMD['Jan/Year'][i][1][-2:]))\n",
    "\n",
    "for i in YMD['mm/dd/yyyy'][YMD['mm/dd/yyyy']!='N'].index:\n",
    "    YMD['mm/dd/yyyy'][i] = datetime.strftime(datetime.strptime(YMD['mm/dd/yyyy'][i],'%m/%d/%Y'),'%m/%d/%y') # Zero-padding not working !\n",
    "\n",
    "for i in YMD['mm/yyyy'][YMD['mm/yyyy']!='N'].index:\n",
    "    YMD['mm/yyyy'][i] = datetime.strftime(datetime.strptime(YMD['mm/yyyy'][i],'%d/%Y'),'%d/%y') \n",
    "    "
   ]
  },
  {
   "cell_type": "code",
   "execution_count": 6,
   "metadata": {
    "collapsed": true
   },
   "outputs": [],
   "source": [
    "# Nan 'N's\n",
    "YMD = pd.DataFrame(YMD[C].apply(lambda x:np.nan if len(x) ==1 else x) for C in YMD.columns).T\n",
    "\n",
    "# new column to store standard date\n",
    "YMD['YMD'] = YMD['mm/dd/yy']\n",
    "\n",
    "# fillna\n",
    "\n",
    "YMD['YMD'].fillna(YMD['mm/dd/yyyy'],inplace = True)\n",
    "YMD['YMD'].fillna('1/'+YMD['mm/yyyy'],inplace = True)\n",
    "YMD['YMD'].fillna(YMD['Jan/dd/Year'],inplace = True)\n",
    "YMD['YMD'].fillna(YMD['dd/Jan/Year'],inplace = True)\n",
    "YMD['YMD'].fillna(YMD['Jan/Year'],inplace = True)\n",
    "YMD['YMD'].fillna('1/1/'+YMD['Year_only'],inplace = True)"
   ]
  },
  {
   "cell_type": "code",
   "execution_count": 7,
   "metadata": {
    "collapsed": true
   },
   "outputs": [],
   "source": [
    "# standard format\n",
    "for i in np.arange(len(YMD)):\n",
    "    YMD.YMD[i] = '/'.join(YMD.YMD[i].split('-'))\n",
    "\n",
    "# remove all '0's, why '%-d' or '%#d' not working?\n",
    "day_no_padding = YMD.YMD.str.split('/').apply(lambda x:x[0].lstrip('0'))\n",
    "mon_no_padding = YMD.YMD.str.split('/').apply(lambda x:x[1].lstrip('0'))\n",
    "year_no_padding = YMD.YMD.str.split('/').apply(lambda x:x[2])\n",
    "\n",
    "for i in np.arange(len(YMD)):\n",
    "    YMD.YMD[i] = '{}/{}/{}'.format(day_no_padding[i],mon_no_padding[i],year_no_padding[i])"
   ]
  },
  {
   "cell_type": "code",
   "execution_count": 8,
   "metadata": {},
   "outputs": [],
   "source": [
    "# sort date\n",
    "sorted_indices = pd.Series(np.argsort(sorted(YMD.YMD,key = lambda x: datetime.strptime(x, '%m/%d/%y')))) # meaning to sort dates with such format"
   ]
  },
  {
   "cell_type": "code",
   "execution_count": 9,
   "metadata": {
    "collapsed": true
   },
   "outputs": [],
   "source": [
    "def date_sorter():\n",
    "    \n",
    "    # Your code here\n",
    "    \n",
    "    return sorted_indices"
   ]
  },
  {
   "cell_type": "code",
   "execution_count": 10,
   "metadata": {},
   "outputs": [
    {
     "data": {
      "text/plain": [
       "0      351\n",
       "1      363\n",
       "2      372\n",
       "3      381\n",
       "4      388\n",
       "5      387\n",
       "6      389\n",
       "7      402\n",
       "8      408\n",
       "9      416\n",
       "10     418\n",
       "11     415\n",
       "12     417\n",
       "13     430\n",
       "14     429\n",
       "15     440\n",
       "16     438\n",
       "17     439\n",
       "18     446\n",
       "19     456\n",
       "20     466\n",
       "21     476\n",
       "22     477\n",
       "23     478\n",
       "24     482\n",
       "25     483\n",
       "26     488\n",
       "27     489\n",
       "28     492\n",
       "29       5\n",
       "      ... \n",
       "470    154\n",
       "471    125\n",
       "472    323\n",
       "473    424\n",
       "474    437\n",
       "475    472\n",
       "476    473\n",
       "477    480\n",
       "478    490\n",
       "479     41\n",
       "480    127\n",
       "481    162\n",
       "482    174\n",
       "483    348\n",
       "484    399\n",
       "485     42\n",
       "486      4\n",
       "487    362\n",
       "488    464\n",
       "489    163\n",
       "490    128\n",
       "491     66\n",
       "492     67\n",
       "493    138\n",
       "494    228\n",
       "495     56\n",
       "496    491\n",
       "497    102\n",
       "498    305\n",
       "499    227\n",
       "Length: 500, dtype: int64"
      ]
     },
     "execution_count": 10,
     "metadata": {},
     "output_type": "execute_result"
    }
   ],
   "source": [
    "date_sorter()"
   ]
  },
  {
   "cell_type": "code",
   "execution_count": null,
   "metadata": {
    "collapsed": true
   },
   "outputs": [],
   "source": []
  }
 ],
 "metadata": {
  "coursera": {
   "course_slug": "python-text-mining",
   "graded_item_id": "LvcWI",
   "launcher_item_id": "krne9",
   "part_id": "Mkp1I"
  },
  "kernelspec": {
   "display_name": "Python 3",
   "language": "python",
   "name": "python3"
  },
  "language_info": {
   "codemirror_mode": {
    "name": "ipython",
    "version": 3
   },
   "file_extension": ".py",
   "mimetype": "text/x-python",
   "name": "python",
   "nbconvert_exporter": "python",
   "pygments_lexer": "ipython3",
   "version": "3.6.2"
  }
 },
 "nbformat": 4,
 "nbformat_minor": 2
}
