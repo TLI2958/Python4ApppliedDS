{
 "cells": [
  {
   "cell_type": "markdown",
   "metadata": {},
   "source": [
    "# Assignment 2\n",
    "\n",
    "Before working on this assignment please read these instructions fully. In the submission area, you will notice that you can click the link to **Preview the Grading** for each step of the assignment. This is the criteria that will be used for peer grading. Please familiarize yourself with the criteria before beginning the assignment.\n",
    "\n",
    "An NOAA dataset has been stored in the file `data/C2A2_data/BinnedCsvs_d400/fb441e62df2d58994928907a91895ec62c2c42e6cd075c2700843b89.csv`. This is the dataset to use for this assignment. Note: The data for this assignment comes from a subset of The National Centers for Environmental Information (NCEI) [Daily Global Historical Climatology Network](https://www1.ncdc.noaa.gov/pub/data/ghcn/daily/readme.txt) (GHCN-Daily). The GHCN-Daily is comprised of daily climate records from thousands of land surface stations across the globe.\n",
    "\n",
    "Each row in the assignment datafile corresponds to a single observation.\n",
    "\n",
    "The following variables are provided to you:\n",
    "\n",
    "* **id** : station identification code\n",
    "* **date** : date in YYYY-MM-DD format (e.g. 2012-01-24 = January 24, 2012)\n",
    "* **element** : indicator of element type\n",
    "    * TMAX : Maximum temperature (tenths of degrees C)\n",
    "    * TMIN : Minimum temperature (tenths of degrees C)\n",
    "* **value** : data value for element (tenths of degrees C)\n",
    "\n",
    "For this assignment, you must:\n",
    "\n",
    "1. Read the documentation and familiarize yourself with the dataset, then write some python code which returns a line graph of the record high and record low temperatures by day of the year over the period 2005-2014. The area between the record high and record low temperatures for each day should be shaded.\n",
    "2. Overlay a scatter of the 2015 data for any points (highs and lows) for which the ten year record (2005-2014) record high or record low was broken in 2015.\n",
    "3. Watch out for leap days (i.e. February 29th), it is reasonable to remove these points from the dataset for the purpose of this visualization.\n",
    "4. Make the visual nice! Leverage principles from the first module in this course when developing your solution. Consider issues such as legends, labels, and chart junk.\n",
    "\n",
    "The data you have been given is near **Ann Arbor, Michigan, United States**, and the stations the data comes from are shown on the map below."
   ]
  },
  {
   "cell_type": "code",
   "execution_count": 1,
   "metadata": {
    "collapsed": false
   },
   "outputs": [],
   "source": [
    "import matplotlib.pyplot as plt\n",
    "import mplleaflet\n",
    "import pandas as pd\n",
    "import numpy as np\n",
    "import calendar\n",
    "\n",
    "def leaflet_plot_stations(binsize, hashid):\n",
    "\n",
    "    df = pd.read_csv('data/C2A2_data/BinSize_d{}.csv'.format(binsize))\n",
    "\n",
    "    station_locations_by_hash = df[df['hash'] == hashid]\n",
    "\n",
    "    lons = station_locations_by_hash['LONGITUDE'].tolist()\n",
    "    lats = station_locations_by_hash['LATITUDE'].tolist()\n",
    "\n",
    "    plt.figure(figsize=(8,8))\n",
    "\n",
    "    plt.scatter(lons, lats, c='r', alpha=0.7, s=200)\n",
    "\n",
    "    return mplleaflet.display()\n",
    "\n",
    "#leaflet_plot_stations(400,'fb441e62df2d58994928907a91895ec62c2c42e6cd075c2700843b89')"
   ]
  },
  {
   "cell_type": "code",
   "execution_count": 2,
   "metadata": {
    "collapsed": true
   },
   "outputs": [],
   "source": [
    "## For line graph: using data before 2015\n",
    "# import data\n",
    "data = pd.DataFrame(pd.read_csv('data/C2A2_data/BinnedCsvs_d400/fb441e62df2d58994928907a91895ec62c2c42e6cd075c2700843b89.csv'))\n",
    "data = data[data['Date'] < '2015-01-01'] # all data before 2015\n",
    "\n",
    "# Find maxiums for each day across station\n",
    "minTemp = data.groupby('Date')['Data_Value'].min()\n",
    "maxTemp = data.groupby('Date')['Data_Value'].max()\n",
    "\n",
    "# Remove 02-29\n",
    "minTemp = minTemp[minTemp.index != '2008-02-29']\n",
    "minTemp = minTemp[minTemp.index != '2012-02-29']\n",
    "maxTemp = maxTemp[maxTemp.index != '2008-02-29']\n",
    "maxTemp = maxTemp[maxTemp.index != '2012-02-29']\n",
    "\n",
    "# Find maxs and mins for each day across year\n",
    "minTempdf = pd.DataFrame(minTemp)\n",
    "minTempdf['Day'] = minTempdf.index\n",
    "monDay = []\n",
    "\n",
    "# re-arrange date format into MM-DD\n",
    "for day in minTempdf['Day']:\n",
    "    monDay.append(str(day.split('-')[1]) + str(day.split('-')[2]))\n",
    "\n",
    "#  get min temp for each day across year\n",
    "minTempdf['Day'] = monDay\n",
    "minDay = .1*(minTempdf.groupby('Day')['Data_Value'].min()) # because original temps were logged as tenths of Celsius\n",
    "\n",
    "# get max temp for each day across year\n",
    "maxTempdf = pd.DataFrame(maxTemp)\n",
    "maxTempdf['Day'] = monDay\n",
    "maxDay = .1*(maxTempdf.groupby('Day')['Data_Value'].max())"
   ]
  },
  {
   "cell_type": "code",
   "execution_count": null,
   "metadata": {
    "collapsed": false
   },
   "outputs": [],
   "source": [
    "## For scatter plot: using data of 2015\n",
    "# data of 2015\n",
    "data = pd.DataFrame(pd.read_csv('data/C2A2_data/BinnedCsvs_d400/fb441e62df2d58994928907a91895ec62c2c42e6cd075c2700843b89.csv'))\n",
    "Temp15 = data[data['Date']>'2014-12-31']\n",
    "\n",
    "# min & max temps across stations for each day in 2015\n",
    "min15 = pd.DataFrame(.1*(Temp15.groupby('Date')['Data_Value'].min()))\n",
    "max15 = pd.DataFrame(.1*(Temp15.groupby('Date')['Data_Value'].max()))\n",
    "monDay15 = pd.Series(monDay).unique()\n",
    "min15['Day'] = monDay15\n",
    "max15['Day'] = monDay15\n",
    "min15.reset_index(inplace = True)\n",
    "min15.set_index('Day',inplace = True)\n",
    "max15.reset_index(inplace = True)\n",
    "max15.set_index('Day',inplace = True)\n",
    "\n",
    "# series to DF\n",
    "mindf = pd.DataFrame(minDay)\n",
    "maxdf = pd.DataFrame(maxDay)\n",
    "\n",
    "# Find out maximums and mininums broken in 15\n",
    "Allmin = pd.merge(mindf,min15,left_index = True,right_index = True)\n",
    "Allmin = pd.DataFrame(Allmin[Allmin['Data_Value_y'] < Allmin['Data_Value_x']]['Data_Value_y']) # only keep data when minimum record broken in 15\n",
    "Allmax = pd.merge(maxdf,max15,left_index = True,right_index = True)\n",
    "Allmax = pd.DataFrame(Allmax[Allmax['Data_Value_y'] > Allmax['Data_Value_x']]['Data_Value_y'])\n",
    "\n",
    "# reset indices so can use index for plottting \n",
    "mindf.reset_index(inplace = True)\n",
    "maxdf.reset_index(inplace = True)\n",
    "Allmin.reset_index(inplace = True)\n",
    "Allmax.reset_index(inplace = True)"
   ]
  },
  {
   "cell_type": "code",
   "execution_count": null,
   "metadata": {
    "collapsed": false
   },
   "outputs": [
    {
     "name": "stderr",
     "output_type": "stream",
     "text": [
      "/opt/conda/lib/python3.6/site-packages/ipykernel/__main__.py:7: SettingWithCopyWarning: \n",
      "A value is trying to be set on a copy of a slice from a DataFrame\n",
      "\n",
      "See the caveats in the documentation: http://pandas.pydata.org/pandas-docs/stable/indexing.html#indexing-view-versus-copy\n"
     ]
    }
   ],
   "source": [
    "## For labels\n",
    "# define a function to convert MM-DD to Jan-DD so that interpretable\n",
    "def str_to_month_day(x):\n",
    "    x['Month-Day'] = None\n",
    "    for i in np.arange(len(x)):\n",
    "        if int(x['Day'][i][0:2]) < 10:\n",
    "            x['Month-Day'][i] = calendar.month_name[int(x['Day'][i][1])] + x['Day'][i][2:]\n",
    "        else: x['Month-Day'][i] = calendar.month_name[int(x['Day'][i][0:2])] + x['Day'][i][2:]\n",
    "    return x\n",
    "\n",
    "# apply function\n",
    "mindf = str_to_month_day(mindf)\n",
    "\n",
    "# used for x-aixs labels\n",
    "minLen = np.arange(len(mindf))\n",
    "indices = []\n",
    "labels = []\n",
    "for i in minLen:\n",
    "    if mindf.iloc[i]['Day'][2:] == '01':\n",
    "        indices.append(i)\n",
    "        labels.append(mindf.iloc[i]['Month-Day'][0:3] + mindf.iloc[i]['Month-Day'][-2:])"
   ]
  },
  {
   "cell_type": "code",
   "execution_count": null,
   "metadata": {
    "collapsed": false
   },
   "outputs": [],
   "source": [
    "%matplotlib notebook\n",
    "# plot lines\n",
    "low_line = plt.plot(minDay.values,'-',linewidth = 1.5,color = 'navy',alpha = .75,label = 'record-low temp(05-14)')\n",
    "high_line = plt.plot(maxDay.values,linewidth = 1.5,color = 'darkorange',alpha = .75, label = 'record-high temp(05-14)')\n",
    "plt.ylabel('Temperature (°C)')\n",
    "plt.xlabel('Date')\n",
    "plt.title('Record High and Record Low Temperature \\n2005-2014')\n",
    "ax = plt.gca()\n",
    "ax.fill_between(range(len(minDay)),minDay,maxDay,facecolor='azure',alpha = .5,zorder = 1) # color in-between area\n",
    "\n",
    "# scatterplot\n",
    "minInd = pd.merge(mindf,Allmin,how = 'outer',indicator = True)\n",
    "minInd = minInd[minInd['_merge'] == 'both'].index # indices for minimum temp broken in 15\n",
    "plt.scatter(minInd,Allmin['Data_Value_y'],marker = '.',c='darkblue',edgecolors='c',zorder = 10,label = 'record-low temp 15')\n",
    "maxInd = pd.merge(maxdf,Allmax,how = 'outer',indicator = True)\n",
    "maxInd = maxInd[maxInd['_merge'] == 'both'].index\n",
    "plt.scatter(maxInd,Allmax['Data_Value_y'],marker = '.',c='orangered',edgecolors='gold',zorder = 10,label = 'record-high temp 15')\n",
    "\n",
    "# ajust legend and ticks\n",
    "plt.legend(loc = 'best')\n",
    "ax.set_xticks(ticks = indices)\n",
    "ax.set_xticklabels(labels= labels) # label x-axis\n",
    "plt.xticks(rotation = 45) # rotate x-ticks\n",
    "tempRecord = plt.savefig # save pics"
   ]
  },
  {
   "cell_type": "code",
   "execution_count": null,
   "metadata": {
    "collapsed": true
   },
   "outputs": [],
   "source": []
  }
 ],
 "metadata": {
  "kernelspec": {
   "display_name": "Python 3",
   "language": "python",
   "name": "python3"
  },
  "language_info": {
   "codemirror_mode": {
    "name": "ipython",
    "version": 3
   },
   "file_extension": ".py",
   "mimetype": "text/x-python",
   "name": "python",
   "nbconvert_exporter": "python",
   "pygments_lexer": "ipython3",
   "version": "3.6.2"
  }
 },
 "nbformat": 4,
 "nbformat_minor": 1
}
