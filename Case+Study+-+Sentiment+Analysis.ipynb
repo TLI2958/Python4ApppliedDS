{
 "cells": [
  {
   "cell_type": "markdown",
   "metadata": {},
   "source": [
    "---\n",
    "\n",
    "_You are currently looking at **version 1.0** of this notebook. To download notebooks and datafiles, as well as get help on Jupyter notebooks in the Coursera platform, visit the [Jupyter Notebook FAQ](https://www.coursera.org/learn/python-text-mining/resources/d9pwm) course resource._\n",
    "\n",
    "---"
   ]
  },
  {
   "cell_type": "markdown",
   "metadata": {},
   "source": [
    "*Note: Some of the cells in this notebook are computationally expensive. To reduce runtime, this notebook is using a subset of the data.*"
   ]
  },
  {
   "cell_type": "markdown",
   "metadata": {},
   "source": [
    "# Learning Text Classifier in Python"
   ]
  },
  {
   "cell_type": "code",
   "execution_count": 28,
   "metadata": {
    "collapsed": true
   },
   "outputs": [],
   "source": [
    "from sklearn import naive_bayes\n",
    "from sklearn import metrics"
   ]
  },
  {
   "cell_type": "markdown",
   "metadata": {},
   "source": [
    "Naive Bayes Classifier"
   ]
  },
  {
   "cell_type": "code",
   "execution_count": 30,
   "metadata": {
    "collapsed": true
   },
   "outputs": [
    {
     "ename": "ValueError",
     "evalue": "could not convert string to float: 'Within 2weeks of owning the phone it shown a update that literally fried the phone. When it worked it was enjoyable fast and responsive.'",
     "output_type": "error",
     "traceback": [
      "\u001b[0;31m---------------------------------------------------------------------------\u001b[0m",
      "\u001b[0;31mValueError\u001b[0m                                Traceback (most recent call last)",
      "\u001b[0;32m<ipython-input-30-b036d9ca9c53>\u001b[0m in \u001b[0;36m<module>\u001b[0;34m()\u001b[0m\n\u001b[0;32m----> 1\u001b[0;31m \u001b[0mclfrNB\u001b[0m \u001b[0;34m=\u001b[0m \u001b[0mnaive_bayes\u001b[0m\u001b[0;34m.\u001b[0m\u001b[0mMultinomialNB\u001b[0m\u001b[0;34m(\u001b[0m\u001b[0;34m)\u001b[0m\u001b[0;34m.\u001b[0m\u001b[0mfit\u001b[0m\u001b[0;34m(\u001b[0m\u001b[0mX_train\u001b[0m\u001b[0;34m,\u001b[0m\u001b[0my_train\u001b[0m\u001b[0;34m)\u001b[0m\u001b[0;34m\u001b[0m\u001b[0m\n\u001b[0m\u001b[1;32m      2\u001b[0m \u001b[0mclfrNB2\u001b[0m \u001b[0;34m=\u001b[0m \u001b[0mnaive_bayes\u001b[0m\u001b[0;34m.\u001b[0m\u001b[0mBernoulliNB\u001b[0m\u001b[0;34m(\u001b[0m\u001b[0;34m)\u001b[0m\u001b[0;34m.\u001b[0m\u001b[0mfit\u001b[0m\u001b[0;34m(\u001b[0m\u001b[0mX_train\u001b[0m\u001b[0;34m,\u001b[0m\u001b[0my_train\u001b[0m\u001b[0;34m)\u001b[0m\u001b[0;34m\u001b[0m\u001b[0m\n\u001b[1;32m      3\u001b[0m \u001b[0mpredicted_labels1\u001b[0m \u001b[0;34m=\u001b[0m \u001b[0mclfrNB\u001b[0m\u001b[0;34m.\u001b[0m\u001b[0mpredict\u001b[0m\u001b[0;34m(\u001b[0m\u001b[0mX_test\u001b[0m\u001b[0;34m)\u001b[0m\u001b[0;34m\u001b[0m\u001b[0m\n\u001b[1;32m      4\u001b[0m \u001b[0mpredicted_labels2\u001b[0m \u001b[0;34m=\u001b[0m \u001b[0mclfrNB2\u001b[0m\u001b[0;34m.\u001b[0m\u001b[0mpredict\u001b[0m\u001b[0;34m(\u001b[0m\u001b[0mX_test\u001b[0m\u001b[0;34m)\u001b[0m\u001b[0;34m\u001b[0m\u001b[0m\n",
      "\u001b[0;32m/opt/conda/lib/python3.6/site-packages/sklearn/naive_bayes.py\u001b[0m in \u001b[0;36mfit\u001b[0;34m(self, X, y, sample_weight)\u001b[0m\n\u001b[1;32m    560\u001b[0m             \u001b[0mReturns\u001b[0m \u001b[0mself\u001b[0m\u001b[0;34m.\u001b[0m\u001b[0;34m\u001b[0m\u001b[0m\n\u001b[1;32m    561\u001b[0m         \"\"\"\n\u001b[0;32m--> 562\u001b[0;31m         \u001b[0mX\u001b[0m\u001b[0;34m,\u001b[0m \u001b[0my\u001b[0m \u001b[0;34m=\u001b[0m \u001b[0mcheck_X_y\u001b[0m\u001b[0;34m(\u001b[0m\u001b[0mX\u001b[0m\u001b[0;34m,\u001b[0m \u001b[0my\u001b[0m\u001b[0;34m,\u001b[0m \u001b[0;34m'csr'\u001b[0m\u001b[0;34m)\u001b[0m\u001b[0;34m\u001b[0m\u001b[0m\n\u001b[0m\u001b[1;32m    563\u001b[0m         \u001b[0m_\u001b[0m\u001b[0;34m,\u001b[0m \u001b[0mn_features\u001b[0m \u001b[0;34m=\u001b[0m \u001b[0mX\u001b[0m\u001b[0;34m.\u001b[0m\u001b[0mshape\u001b[0m\u001b[0;34m\u001b[0m\u001b[0m\n\u001b[1;32m    564\u001b[0m \u001b[0;34m\u001b[0m\u001b[0m\n",
      "\u001b[0;32m/opt/conda/lib/python3.6/site-packages/sklearn/utils/validation.py\u001b[0m in \u001b[0;36mcheck_X_y\u001b[0;34m(X, y, accept_sparse, dtype, order, copy, force_all_finite, ensure_2d, allow_nd, multi_output, ensure_min_samples, ensure_min_features, y_numeric, warn_on_dtype, estimator)\u001b[0m\n\u001b[1;32m    519\u001b[0m     X = check_array(X, accept_sparse, dtype, order, copy, force_all_finite,\n\u001b[1;32m    520\u001b[0m                     \u001b[0mensure_2d\u001b[0m\u001b[0;34m,\u001b[0m \u001b[0mallow_nd\u001b[0m\u001b[0;34m,\u001b[0m \u001b[0mensure_min_samples\u001b[0m\u001b[0;34m,\u001b[0m\u001b[0;34m\u001b[0m\u001b[0m\n\u001b[0;32m--> 521\u001b[0;31m                     ensure_min_features, warn_on_dtype, estimator)\n\u001b[0m\u001b[1;32m    522\u001b[0m     \u001b[0;32mif\u001b[0m \u001b[0mmulti_output\u001b[0m\u001b[0;34m:\u001b[0m\u001b[0;34m\u001b[0m\u001b[0m\n\u001b[1;32m    523\u001b[0m         y = check_array(y, 'csr', force_all_finite=True, ensure_2d=False,\n",
      "\u001b[0;32m/opt/conda/lib/python3.6/site-packages/sklearn/utils/validation.py\u001b[0m in \u001b[0;36mcheck_array\u001b[0;34m(array, accept_sparse, dtype, order, copy, force_all_finite, ensure_2d, allow_nd, ensure_min_samples, ensure_min_features, warn_on_dtype, estimator)\u001b[0m\n\u001b[1;32m    380\u001b[0m                                       force_all_finite)\n\u001b[1;32m    381\u001b[0m     \u001b[0;32melse\u001b[0m\u001b[0;34m:\u001b[0m\u001b[0;34m\u001b[0m\u001b[0m\n\u001b[0;32m--> 382\u001b[0;31m         \u001b[0marray\u001b[0m \u001b[0;34m=\u001b[0m \u001b[0mnp\u001b[0m\u001b[0;34m.\u001b[0m\u001b[0marray\u001b[0m\u001b[0;34m(\u001b[0m\u001b[0marray\u001b[0m\u001b[0;34m,\u001b[0m \u001b[0mdtype\u001b[0m\u001b[0;34m=\u001b[0m\u001b[0mdtype\u001b[0m\u001b[0;34m,\u001b[0m \u001b[0morder\u001b[0m\u001b[0;34m=\u001b[0m\u001b[0morder\u001b[0m\u001b[0;34m,\u001b[0m \u001b[0mcopy\u001b[0m\u001b[0;34m=\u001b[0m\u001b[0mcopy\u001b[0m\u001b[0;34m)\u001b[0m\u001b[0;34m\u001b[0m\u001b[0m\n\u001b[0m\u001b[1;32m    383\u001b[0m \u001b[0;34m\u001b[0m\u001b[0m\n\u001b[1;32m    384\u001b[0m         \u001b[0;32mif\u001b[0m \u001b[0mensure_2d\u001b[0m\u001b[0;34m:\u001b[0m\u001b[0;34m\u001b[0m\u001b[0m\n",
      "\u001b[0;31mValueError\u001b[0m: could not convert string to float: 'Within 2weeks of owning the phone it shown a update that literally fried the phone. When it worked it was enjoyable fast and responsive.'"
     ]
    }
   ],
   "source": [
    "# Do not run, data not preprocessed\n",
    "clfrNB = naive_bayes.MultinomialNB().fit(X_train,y_train)\n",
    "clfrNB2 = naive_bayes.BernoulliNB().fit(X_train,y_train)\n",
    "predicted_labels1 = clfrNB.predict(X_test)\n",
    "predicted_labels2 = clfrNB2.predict(X_test)"
   ]
  },
  {
   "cell_type": "code",
   "execution_count": 29,
   "metadata": {
    "collapsed": true
   },
   "outputs": [
    {
     "ename": "TypeError",
     "evalue": "f1_score() missing 2 required positional arguments: 'y_true' and 'y_pred'",
     "output_type": "error",
     "traceback": [
      "\u001b[0;31m---------------------------------------------------------------------------\u001b[0m",
      "\u001b[0;31mTypeError\u001b[0m                                 Traceback (most recent call last)",
      "\u001b[0;32m<ipython-input-29-538c207c3593>\u001b[0m in \u001b[0;36m<module>\u001b[0;34m()\u001b[0m\n\u001b[0;32m----> 1\u001b[0;31m \u001b[0mmetrics\u001b[0m\u001b[0;34m.\u001b[0m\u001b[0mf1_score\u001b[0m\u001b[0;34m(\u001b[0m\u001b[0;34m)\u001b[0m\u001b[0;34m\u001b[0m\u001b[0m\n\u001b[0m",
      "\u001b[0;31mTypeError\u001b[0m: f1_score() missing 2 required positional arguments: 'y_true' and 'y_pred'"
     ]
    }
   ],
   "source": [
    "metrics.f1_score(y_test,predicted_labels1,average='micro')"
   ]
  },
  {
   "cell_type": "markdown",
   "metadata": {},
   "source": [
    "Model Selection"
   ]
  },
  {
   "cell_type": "code",
   "execution_count": 1,
   "metadata": {
    "collapsed": true
   },
   "outputs": [],
   "source": [
    "from sklearn import model_selection"
   ]
  },
  {
   "cell_type": "code",
   "execution_count": null,
   "metadata": {
    "collapsed": true
   },
   "outputs": [],
   "source": [
    "# Do not run\n",
    "predicted_labels = model_selection.cross_val_predict(clfrSVM, train_data, train_labels, cv = 5) "
   ]
  },
  {
   "cell_type": "markdown",
   "metadata": {},
   "source": [
    "# NLTK"
   ]
  },
  {
   "cell_type": "markdown",
   "metadata": {},
   "source": [
    "using NLTK's NaiveByesClassifier"
   ]
  },
  {
   "cell_type": "code",
   "execution_count": 5,
   "metadata": {},
   "outputs": [],
   "source": [
    "# Do not run\n",
    "import nltk\n",
    "from nltk.classify import NaiveBayesClassifier\n",
    "classifier = NaiveBayesClassifier.train(train_set)\n",
    "classifier.classify(unlabeled_instance) # if only one\n",
    "classifier.classify_many(unlabeled_instances) # if many\n",
    "\n",
    "nltk.classify.util.accuracy(classifier, test_set)\n",
    "\n",
    "classifier.labels()\n",
    "\n",
    "classifier.show_most_informative_features()"
   ]
  },
  {
   "cell_type": "markdown",
   "metadata": {},
   "source": [
    "using NLTK's SklearnClassifer"
   ]
  },
  {
   "cell_type": "code",
   "execution_count": 6,
   "metadata": {
    "collapsed": true
   },
   "outputs": [],
   "source": [
    "from nltk.classify import SklearnClassifier\n",
    "from sklearn.naive_bayes import MultinomialNB\n",
    "from sklearn.svm import SVC\n",
    "\n",
    "clfrNB = SklearnClassifier(MultinomialNB()).train(train_set)\n",
    "\n",
    "clfrSVM = SklearnClassifier(SVC(),kernel = 'linear').train(train_set)"
   ]
  },
  {
   "cell_type": "markdown",
   "metadata": {},
   "source": [
    "# Case Study: Sentiment Analysis"
   ]
  },
  {
   "cell_type": "markdown",
   "metadata": {},
   "source": [
    "### Data Prep"
   ]
  },
  {
   "cell_type": "code",
   "execution_count": 7,
   "metadata": {
    "collapsed": true
   },
   "outputs": [
    {
     "data": {
      "text/html": [
       "<div>\n",
       "<style>\n",
       "    .dataframe thead tr:only-child th {\n",
       "        text-align: right;\n",
       "    }\n",
       "\n",
       "    .dataframe thead th {\n",
       "        text-align: left;\n",
       "    }\n",
       "\n",
       "    .dataframe tbody tr th {\n",
       "        vertical-align: top;\n",
       "    }\n",
       "</style>\n",
       "<table border=\"1\" class=\"dataframe\">\n",
       "  <thead>\n",
       "    <tr style=\"text-align: right;\">\n",
       "      <th></th>\n",
       "      <th>Product Name</th>\n",
       "      <th>Brand Name</th>\n",
       "      <th>Price</th>\n",
       "      <th>Rating</th>\n",
       "      <th>Reviews</th>\n",
       "      <th>Review Votes</th>\n",
       "    </tr>\n",
       "  </thead>\n",
       "  <tbody>\n",
       "    <tr>\n",
       "      <th>374058</th>\n",
       "      <td>Samsung Galaxy S7 Edge SM-G935F 32GB Factory U...</td>\n",
       "      <td>NaN</td>\n",
       "      <td>593.50</td>\n",
       "      <td>4</td>\n",
       "      <td>except samsung pay everything is good</td>\n",
       "      <td>0.0</td>\n",
       "    </tr>\n",
       "    <tr>\n",
       "      <th>329596</th>\n",
       "      <td>Samsung Galaxy Note 5 SM-N9208 32GB 5.7-inch 4...</td>\n",
       "      <td>Samsung</td>\n",
       "      <td>135.00</td>\n",
       "      <td>4</td>\n",
       "      <td>The charger didnt work, I suppose that it mean...</td>\n",
       "      <td>2.0</td>\n",
       "    </tr>\n",
       "    <tr>\n",
       "      <th>338730</th>\n",
       "      <td>Samsung Galaxy S3 Mini GT-i8190 8GB Android Sm...</td>\n",
       "      <td>Samsung</td>\n",
       "      <td>125.85</td>\n",
       "      <td>5</td>\n",
       "      <td>I loved it and thanks so much because you made...</td>\n",
       "      <td>0.0</td>\n",
       "    </tr>\n",
       "    <tr>\n",
       "      <th>318931</th>\n",
       "      <td>Samsung Galaxy J7 J700M 16GB Dual Sim LTE Unlo...</td>\n",
       "      <td>Samsung</td>\n",
       "      <td>227.14</td>\n",
       "      <td>1</td>\n",
       "      <td>I bought this phone for my mom and sent it to ...</td>\n",
       "      <td>4.0</td>\n",
       "    </tr>\n",
       "    <tr>\n",
       "      <th>363545</th>\n",
       "      <td>Samsung Galaxy S6 Edge Plus SM-G928C 32GB Fact...</td>\n",
       "      <td>samsung</td>\n",
       "      <td>650.00</td>\n",
       "      <td>5</td>\n",
       "      <td>This phone is amazing. Beautiful camera qualit...</td>\n",
       "      <td>3.0</td>\n",
       "    </tr>\n",
       "    <tr>\n",
       "      <th>348205</th>\n",
       "      <td>Samsung Galaxy S5 G900A 16GB Unlocked GSM 4G L...</td>\n",
       "      <td>Samsung</td>\n",
       "      <td>228.98</td>\n",
       "      <td>1</td>\n",
       "      <td>The camera does not work</td>\n",
       "      <td>0.0</td>\n",
       "    </tr>\n",
       "    <tr>\n",
       "      <th>311731</th>\n",
       "      <td>Samsung Galaxy Grand Prime Dual Sim Factory Un...</td>\n",
       "      <td>Samsung Korea LTD</td>\n",
       "      <td>184.90</td>\n",
       "      <td>4</td>\n",
       "      <td>GOOD</td>\n",
       "      <td>0.0</td>\n",
       "    </tr>\n",
       "    <tr>\n",
       "      <th>368411</th>\n",
       "      <td>Samsung Galaxy S6 SM-G920FD Factory Unlocked C...</td>\n",
       "      <td>Samsung</td>\n",
       "      <td>440.23</td>\n",
       "      <td>5</td>\n",
       "      <td>Excellent Phone!... Fast, can take a \"loading\"...</td>\n",
       "      <td>0.0</td>\n",
       "    </tr>\n",
       "    <tr>\n",
       "      <th>351534</th>\n",
       "      <td>Samsung Galaxy S5 Mini G800F 16GB Unlocked Cel...</td>\n",
       "      <td>Samsung</td>\n",
       "      <td>239.00</td>\n",
       "      <td>5</td>\n",
       "      <td>excelente producto</td>\n",
       "      <td>0.0</td>\n",
       "    </tr>\n",
       "    <tr>\n",
       "      <th>339191</th>\n",
       "      <td>Samsung Galaxy S3 Mini GT-i8190 factory Unlock...</td>\n",
       "      <td>Samsung</td>\n",
       "      <td>188.99</td>\n",
       "      <td>5</td>\n",
       "      <td>excelente</td>\n",
       "      <td>0.0</td>\n",
       "    </tr>\n",
       "    <tr>\n",
       "      <th>321946</th>\n",
       "      <td>Samsung Galaxy Mega 6.3 I9200 8GB Unlocked GSM...</td>\n",
       "      <td>NaN</td>\n",
       "      <td>249.99</td>\n",
       "      <td>5</td>\n",
       "      <td>That phone works great, first it did not want ...</td>\n",
       "      <td>0.0</td>\n",
       "    </tr>\n",
       "    <tr>\n",
       "      <th>332675</th>\n",
       "      <td>Samsung Galaxy S Blaze 4G SGH-T769 GSM Black -...</td>\n",
       "      <td>Samsung</td>\n",
       "      <td>NaN</td>\n",
       "      <td>5</td>\n",
       "      <td>Phone was delivered on time and was exactly wh...</td>\n",
       "      <td>0.0</td>\n",
       "    </tr>\n",
       "    <tr>\n",
       "      <th>346884</th>\n",
       "      <td>Samsung Galaxy S4 SGH-I337 Unlocked GSM Smartp...</td>\n",
       "      <td>Samsung</td>\n",
       "      <td>183.99</td>\n",
       "      <td>5</td>\n",
       "      <td>Absolutely no issues with either the phone or ...</td>\n",
       "      <td>0.0</td>\n",
       "    </tr>\n",
       "    <tr>\n",
       "      <th>371934</th>\n",
       "      <td>Samsung Galaxy S7 Edge G9350 32GB HK DUAL SIM ...</td>\n",
       "      <td>Samsung</td>\n",
       "      <td>616.99</td>\n",
       "      <td>5</td>\n",
       "      <td>Great phone, though can be very buggy at times.</td>\n",
       "      <td>0.0</td>\n",
       "    </tr>\n",
       "    <tr>\n",
       "      <th>352339</th>\n",
       "      <td>Samsung Galaxy S5 Mini G800h 16gb Hspa+ Unlock...</td>\n",
       "      <td>Samsung</td>\n",
       "      <td>2000.00</td>\n",
       "      <td>1</td>\n",
       "      <td>Has come a dual SIM</td>\n",
       "      <td>1.0</td>\n",
       "    </tr>\n",
       "    <tr>\n",
       "      <th>332307</th>\n",
       "      <td>Samsung Galaxy Rugby Pro 4G LTE I547 Unlocked ...</td>\n",
       "      <td>NaN</td>\n",
       "      <td>39.99</td>\n",
       "      <td>5</td>\n",
       "      <td>Great Phone</td>\n",
       "      <td>0.0</td>\n",
       "    </tr>\n",
       "    <tr>\n",
       "      <th>373046</th>\n",
       "      <td>Samsung Galaxy S7 Edge SM-G935F 32GB Factory U...</td>\n",
       "      <td>NaN</td>\n",
       "      <td>591.00</td>\n",
       "      <td>1</td>\n",
       "      <td>The charger which was sent with the phone does...</td>\n",
       "      <td>1.0</td>\n",
       "    </tr>\n",
       "    <tr>\n",
       "      <th>343591</th>\n",
       "      <td>Samsung Galaxy S4 i9505 16GB LTE Unlocked Inte...</td>\n",
       "      <td>Samsung</td>\n",
       "      <td>168.68</td>\n",
       "      <td>5</td>\n",
       "      <td>\"Amazing experience with the seller. Item arri...</td>\n",
       "      <td>0.0</td>\n",
       "    </tr>\n",
       "    <tr>\n",
       "      <th>331007</th>\n",
       "      <td>Samsung Galaxy Note II N7100 16GB Android Smar...</td>\n",
       "      <td>Samsung</td>\n",
       "      <td>288.99</td>\n",
       "      <td>5</td>\n",
       "      <td>Best phone i ever had. Completely satisfied. F...</td>\n",
       "      <td>2.0</td>\n",
       "    </tr>\n",
       "    <tr>\n",
       "      <th>307615</th>\n",
       "      <td>Samsung Galaxy Alpha G850a Unlocked Cellphone,...</td>\n",
       "      <td>Samsung</td>\n",
       "      <td>134.95</td>\n",
       "      <td>2</td>\n",
       "      <td>Condition said Good when I bought it. The cond...</td>\n",
       "      <td>4.0</td>\n",
       "    </tr>\n",
       "    <tr>\n",
       "      <th>378366</th>\n",
       "      <td>Samsung Infuse I997 4G 16GB Unlocked GSM Andro...</td>\n",
       "      <td>Samsung</td>\n",
       "      <td>124.99</td>\n",
       "      <td>5</td>\n",
       "      <td>Nice phone. It will not run all apps you want ...</td>\n",
       "      <td>1.0</td>\n",
       "    </tr>\n",
       "    <tr>\n",
       "      <th>308756</th>\n",
       "      <td>Samsung Galaxy Exhibit 4G (T-Mobile), t679</td>\n",
       "      <td>Samsung</td>\n",
       "      <td>119.99</td>\n",
       "      <td>2</td>\n",
       "      <td>Used this phone for a couple of months. Compar...</td>\n",
       "      <td>3.0</td>\n",
       "    </tr>\n",
       "    <tr>\n",
       "      <th>324901</th>\n",
       "      <td>Samsung Galaxy Note 3 N9005 Unlocked Cellphone...</td>\n",
       "      <td>Samsung</td>\n",
       "      <td>325.16</td>\n",
       "      <td>1</td>\n",
       "      <td>the screen gone black</td>\n",
       "      <td>0.0</td>\n",
       "    </tr>\n",
       "    <tr>\n",
       "      <th>306759</th>\n",
       "      <td>Samsung Galaxy Ace 2 i8160 Black Factory Unloc...</td>\n",
       "      <td>Samsung</td>\n",
       "      <td>99.99</td>\n",
       "      <td>3</td>\n",
       "      <td>Didn't work but refunded without an issue.</td>\n",
       "      <td>0.0</td>\n",
       "    </tr>\n",
       "    <tr>\n",
       "      <th>312171</th>\n",
       "      <td>Samsung Galaxy Grand Prime Dual Sim Factory Un...</td>\n",
       "      <td>Samsung Korea LTD</td>\n",
       "      <td>184.90</td>\n",
       "      <td>4</td>\n",
       "      <td>Very satisfied</td>\n",
       "      <td>0.0</td>\n",
       "    </tr>\n",
       "    <tr>\n",
       "      <th>383246</th>\n",
       "      <td>Samsung SCH-i545 - Galaxy S4 16GB Android Smar...</td>\n",
       "      <td>NaN</td>\n",
       "      <td>569.98</td>\n",
       "      <td>5</td>\n",
       "      <td>This phone came in generic packaging and was c...</td>\n",
       "      <td>0.0</td>\n",
       "    </tr>\n",
       "    <tr>\n",
       "      <th>310486</th>\n",
       "      <td>Samsung Galaxy Grand Duos i9082 Smartphone (Bl...</td>\n",
       "      <td>Samsung</td>\n",
       "      <td>189.95</td>\n",
       "      <td>4</td>\n",
       "      <td>I like it but I have been having issues with t...</td>\n",
       "      <td>0.0</td>\n",
       "    </tr>\n",
       "    <tr>\n",
       "      <th>371422</th>\n",
       "      <td>Samsung Galaxy S7 Edge Factory Unlocked Phone ...</td>\n",
       "      <td>Samsung</td>\n",
       "      <td>644.99</td>\n",
       "      <td>5</td>\n",
       "      <td>retired my s6 and am very happy with all the a...</td>\n",
       "      <td>0.0</td>\n",
       "    </tr>\n",
       "    <tr>\n",
       "      <th>340553</th>\n",
       "      <td>Samsung Galaxy S3 SCH-I535 Verizon Phone, 16GB...</td>\n",
       "      <td>Samsung</td>\n",
       "      <td>92.50</td>\n",
       "      <td>4</td>\n",
       "      <td>excellent</td>\n",
       "      <td>0.0</td>\n",
       "    </tr>\n",
       "    <tr>\n",
       "      <th>383911</th>\n",
       "      <td>Samsung SCH-i545 Galaxy S4 16GB Android Smartp...</td>\n",
       "      <td>NaN</td>\n",
       "      <td>139.95</td>\n",
       "      <td>1</td>\n",
       "      <td>SMALL PHONE AND I HATE SMALL PHONES!!!</td>\n",
       "      <td>0.0</td>\n",
       "    </tr>\n",
       "    <tr>\n",
       "      <th>...</th>\n",
       "      <td>...</td>\n",
       "      <td>...</td>\n",
       "      <td>...</td>\n",
       "      <td>...</td>\n",
       "      <td>...</td>\n",
       "      <td>...</td>\n",
       "    </tr>\n",
       "    <tr>\n",
       "      <th>350485</th>\n",
       "      <td>Samsung Galaxy S5 Mini G800F 16GB 4G LTE Unloc...</td>\n",
       "      <td>NaN</td>\n",
       "      <td>489.00</td>\n",
       "      <td>5</td>\n",
       "      <td>Great!</td>\n",
       "      <td>0.0</td>\n",
       "    </tr>\n",
       "    <tr>\n",
       "      <th>355982</th>\n",
       "      <td>Samsung Galaxy S5 SM-G900A GSM Unlocked Cellph...</td>\n",
       "      <td>Samsung</td>\n",
       "      <td>234.00</td>\n",
       "      <td>3</td>\n",
       "      <td>Purchased two of these. One works great and as...</td>\n",
       "      <td>1.0</td>\n",
       "    </tr>\n",
       "    <tr>\n",
       "      <th>328667</th>\n",
       "      <td>Samsung Galaxy Note 4 SM-N910H N910 Factory Un...</td>\n",
       "      <td>Samsung</td>\n",
       "      <td>449.99</td>\n",
       "      <td>5</td>\n",
       "      <td>excelent</td>\n",
       "      <td>0.0</td>\n",
       "    </tr>\n",
       "    <tr>\n",
       "      <th>353937</th>\n",
       "      <td>Samsung Galaxy S5 Mini G800H Unlocked Cellphon...</td>\n",
       "      <td>Samsung</td>\n",
       "      <td>350.00</td>\n",
       "      <td>3</td>\n",
       "      <td>I bought this to replace my AT&amp;T S3, which was...</td>\n",
       "      <td>0.0</td>\n",
       "    </tr>\n",
       "    <tr>\n",
       "      <th>361528</th>\n",
       "      <td>Samsung Galaxy S6 Edge G925F 32GB Unlocked GSM...</td>\n",
       "      <td>Samsung</td>\n",
       "      <td>438.50</td>\n",
       "      <td>5</td>\n",
       "      <td>Cool!</td>\n",
       "      <td>0.0</td>\n",
       "    </tr>\n",
       "    <tr>\n",
       "      <th>368374</th>\n",
       "      <td>Samsung Galaxy S6 SM-G920FD Factory Unlocked C...</td>\n",
       "      <td>Samsung</td>\n",
       "      <td>440.23</td>\n",
       "      <td>5</td>\n",
       "      <td>So far it appears to be working well. The phon...</td>\n",
       "      <td>1.0</td>\n",
       "    </tr>\n",
       "    <tr>\n",
       "      <th>340292</th>\n",
       "      <td>Samsung Galaxy S3 NEO I9301i 16gb Factory Unlo...</td>\n",
       "      <td>Samsung</td>\n",
       "      <td>299.90</td>\n",
       "      <td>4</td>\n",
       "      <td>Well the product arrived as the date promises ...</td>\n",
       "      <td>0.0</td>\n",
       "    </tr>\n",
       "    <tr>\n",
       "      <th>305771</th>\n",
       "      <td>Samsung G850F Galaxy Alpha Factory Unlocked Ce...</td>\n",
       "      <td>Samsung</td>\n",
       "      <td>622.90</td>\n",
       "      <td>5</td>\n",
       "      <td>Well done!</td>\n",
       "      <td>0.0</td>\n",
       "    </tr>\n",
       "    <tr>\n",
       "      <th>335776</th>\n",
       "      <td>Samsung Galaxy S Duos II S7582 DUAL SIM Factor...</td>\n",
       "      <td>Samsung</td>\n",
       "      <td>299.99</td>\n",
       "      <td>3</td>\n",
       "      <td>Hi I bought this phone it just arrived at my h...</td>\n",
       "      <td>10.0</td>\n",
       "    </tr>\n",
       "    <tr>\n",
       "      <th>322213</th>\n",
       "      <td>Samsung Galaxy Mega I9152 5.8\" Android Smart P...</td>\n",
       "      <td>Samsung</td>\n",
       "      <td>299.99</td>\n",
       "      <td>3</td>\n",
       "      <td>the phone is ok but a bit slow</td>\n",
       "      <td>1.0</td>\n",
       "    </tr>\n",
       "    <tr>\n",
       "      <th>345553</th>\n",
       "      <td>Samsung Galaxy S4 SCH-I545 16GB Arctic Blue - ...</td>\n",
       "      <td>NaN</td>\n",
       "      <td>149.99</td>\n",
       "      <td>4</td>\n",
       "      <td>Good phone</td>\n",
       "      <td>0.0</td>\n",
       "    </tr>\n",
       "    <tr>\n",
       "      <th>310832</th>\n",
       "      <td>Samsung Galaxy Grand Prime Dual Sim Factory Un...</td>\n",
       "      <td>Samsung</td>\n",
       "      <td>194.90</td>\n",
       "      <td>5</td>\n",
       "      <td>I really liked and timeliness of the Store.</td>\n",
       "      <td>0.0</td>\n",
       "    </tr>\n",
       "    <tr>\n",
       "      <th>322303</th>\n",
       "      <td>Samsung Galaxy Nexus GT-I9250 Unlocked Cellpho...</td>\n",
       "      <td>Samsung</td>\n",
       "      <td>179.00</td>\n",
       "      <td>5</td>\n",
       "      <td>I've had this phone for three weeks and so far...</td>\n",
       "      <td>1.0</td>\n",
       "    </tr>\n",
       "    <tr>\n",
       "      <th>331775</th>\n",
       "      <td>Samsung Galaxy Note II N7100 16GB White-Unlock...</td>\n",
       "      <td>Samsung</td>\n",
       "      <td>618.30</td>\n",
       "      <td>5</td>\n",
       "      <td>This is a good phone, reasonable price and qua...</td>\n",
       "      <td>0.0</td>\n",
       "    </tr>\n",
       "    <tr>\n",
       "      <th>332127</th>\n",
       "      <td>Samsung Galaxy Note II, White 16GB (AT&amp;T)</td>\n",
       "      <td>Samsung</td>\n",
       "      <td>109.99</td>\n",
       "      <td>5</td>\n",
       "      <td>Good condition as advertised. Nice.</td>\n",
       "      <td>0.0</td>\n",
       "    </tr>\n",
       "    <tr>\n",
       "      <th>323943</th>\n",
       "      <td>Samsung Galaxy Note 3 N900 32GB Unlocked GSM 4...</td>\n",
       "      <td>Samsung</td>\n",
       "      <td>249.99</td>\n",
       "      <td>5</td>\n",
       "      <td>Working with Israeli sim card no problem. Ship...</td>\n",
       "      <td>1.0</td>\n",
       "    </tr>\n",
       "    <tr>\n",
       "      <th>384928</th>\n",
       "      <td>Samsung Strive A687 Unlocked GSM Slider Phone ...</td>\n",
       "      <td>Samsung</td>\n",
       "      <td>199.99</td>\n",
       "      <td>1</td>\n",
       "      <td>this phone is advertised as a touchscreen and ...</td>\n",
       "      <td>0.0</td>\n",
       "    </tr>\n",
       "    <tr>\n",
       "      <th>316410</th>\n",
       "      <td>Samsung Galaxy J5 J500M 8GB Unlocked GSM 4G LT...</td>\n",
       "      <td>Samsung</td>\n",
       "      <td>178.99</td>\n",
       "      <td>5</td>\n",
       "      <td>I absolutely love my J5. I got in Gold and it'...</td>\n",
       "      <td>1.0</td>\n",
       "    </tr>\n",
       "    <tr>\n",
       "      <th>346542</th>\n",
       "      <td>Samsung Galaxy S4 SGH-I337 Unlocked GSM Smartp...</td>\n",
       "      <td>Samsung</td>\n",
       "      <td>288.89</td>\n",
       "      <td>5</td>\n",
       "      <td>Loving the phone it was shipped quickly, easy ...</td>\n",
       "      <td>0.0</td>\n",
       "    </tr>\n",
       "    <tr>\n",
       "      <th>349835</th>\n",
       "      <td>Samsung Galaxy S5 Mini G800F 16GB 4G LTE Unloc...</td>\n",
       "      <td>NaN</td>\n",
       "      <td>299.00</td>\n",
       "      <td>3</td>\n",
       "      <td>LTE would not work in USA on S5 mini. You'll s...</td>\n",
       "      <td>0.0</td>\n",
       "    </tr>\n",
       "    <tr>\n",
       "      <th>358207</th>\n",
       "      <td>Samsung Galaxy S5 SM-G900H Factory Unlocked Ce...</td>\n",
       "      <td>Samsung</td>\n",
       "      <td>339.99</td>\n",
       "      <td>5</td>\n",
       "      <td>The best one</td>\n",
       "      <td>0.0</td>\n",
       "    </tr>\n",
       "    <tr>\n",
       "      <th>361730</th>\n",
       "      <td>Samsung Galaxy S6 Edge G925F 32GB Unlocked GSM...</td>\n",
       "      <td>Samsung</td>\n",
       "      <td>438.50</td>\n",
       "      <td>5</td>\n",
       "      <td>Super happy with this phone. I had an S4 which...</td>\n",
       "      <td>0.0</td>\n",
       "    </tr>\n",
       "    <tr>\n",
       "      <th>328783</th>\n",
       "      <td>Samsung Galaxy Note 5 DUOS N9208 32GB Gold Pla...</td>\n",
       "      <td>Samsung</td>\n",
       "      <td>589.00</td>\n",
       "      <td>5</td>\n",
       "      <td>PERFECT! LOVE THE PHONE!</td>\n",
       "      <td>0.0</td>\n",
       "    </tr>\n",
       "    <tr>\n",
       "      <th>360752</th>\n",
       "      <td>Samsung Galaxy S6 Edge G925A 32GB Unlocked GSM...</td>\n",
       "      <td>Unknown</td>\n",
       "      <td>595.00</td>\n",
       "      <td>5</td>\n",
       "      <td>All Excelent</td>\n",
       "      <td>0.0</td>\n",
       "    </tr>\n",
       "    <tr>\n",
       "      <th>325426</th>\n",
       "      <td>Samsung Galaxy Note 3 N900V 32GB Unlocked GSM ...</td>\n",
       "      <td>NaN</td>\n",
       "      <td>379.99</td>\n",
       "      <td>4</td>\n",
       "      <td>Like it</td>\n",
       "      <td>0.0</td>\n",
       "    </tr>\n",
       "    <tr>\n",
       "      <th>328129</th>\n",
       "      <td>Samsung Galaxy Note 4 SM-N910F 4G LTE White Fa...</td>\n",
       "      <td>Samsung</td>\n",
       "      <td>999.99</td>\n",
       "      <td>5</td>\n",
       "      <td>GOOD!!</td>\n",
       "      <td>0.0</td>\n",
       "    </tr>\n",
       "    <tr>\n",
       "      <th>350525</th>\n",
       "      <td>Samsung Galaxy S5 Mini G800F 16GB 4G LTE Unloc...</td>\n",
       "      <td>NaN</td>\n",
       "      <td>489.00</td>\n",
       "      <td>5</td>\n",
       "      <td>Excelente, 100% recomendado.</td>\n",
       "      <td>0.0</td>\n",
       "    </tr>\n",
       "    <tr>\n",
       "      <th>374817</th>\n",
       "      <td>Samsung Galaxy S7 Factory Unlocked Phone 32 GB...</td>\n",
       "      <td>Samsung</td>\n",
       "      <td>523.00</td>\n",
       "      <td>5</td>\n",
       "      <td>Good phone. Had what I requested. Came promptl...</td>\n",
       "      <td>0.0</td>\n",
       "    </tr>\n",
       "    <tr>\n",
       "      <th>376767</th>\n",
       "      <td>Samsung Gear S2 Classic SmartWatch - Black (Ce...</td>\n",
       "      <td>Samsung</td>\n",
       "      <td>199.99</td>\n",
       "      <td>4</td>\n",
       "      <td>I purchased this watch on 11/09/2016. I must s...</td>\n",
       "      <td>4.0</td>\n",
       "    </tr>\n",
       "    <tr>\n",
       "      <th>313198</th>\n",
       "      <td>Samsung Galaxy Grand Prime DUOS G531H/DS - Gra...</td>\n",
       "      <td>Samsung</td>\n",
       "      <td>179.99</td>\n",
       "      <td>4</td>\n",
       "      <td>I liked it at first but is starting to lag alr...</td>\n",
       "      <td>0.0</td>\n",
       "    </tr>\n",
       "  </tbody>\n",
       "</table>\n",
       "<p>8234 rows × 6 columns</p>\n",
       "</div>"
      ],
      "text/plain": [
       "                                             Product Name         Brand Name  \\\n",
       "374058  Samsung Galaxy S7 Edge SM-G935F 32GB Factory U...                NaN   \n",
       "329596  Samsung Galaxy Note 5 SM-N9208 32GB 5.7-inch 4...            Samsung   \n",
       "338730  Samsung Galaxy S3 Mini GT-i8190 8GB Android Sm...            Samsung   \n",
       "318931  Samsung Galaxy J7 J700M 16GB Dual Sim LTE Unlo...            Samsung   \n",
       "363545  Samsung Galaxy S6 Edge Plus SM-G928C 32GB Fact...            samsung   \n",
       "348205  Samsung Galaxy S5 G900A 16GB Unlocked GSM 4G L...            Samsung   \n",
       "311731  Samsung Galaxy Grand Prime Dual Sim Factory Un...  Samsung Korea LTD   \n",
       "368411  Samsung Galaxy S6 SM-G920FD Factory Unlocked C...            Samsung   \n",
       "351534  Samsung Galaxy S5 Mini G800F 16GB Unlocked Cel...            Samsung   \n",
       "339191  Samsung Galaxy S3 Mini GT-i8190 factory Unlock...            Samsung   \n",
       "321946  Samsung Galaxy Mega 6.3 I9200 8GB Unlocked GSM...                NaN   \n",
       "332675  Samsung Galaxy S Blaze 4G SGH-T769 GSM Black -...            Samsung   \n",
       "346884  Samsung Galaxy S4 SGH-I337 Unlocked GSM Smartp...            Samsung   \n",
       "371934  Samsung Galaxy S7 Edge G9350 32GB HK DUAL SIM ...            Samsung   \n",
       "352339  Samsung Galaxy S5 Mini G800h 16gb Hspa+ Unlock...            Samsung   \n",
       "332307  Samsung Galaxy Rugby Pro 4G LTE I547 Unlocked ...                NaN   \n",
       "373046  Samsung Galaxy S7 Edge SM-G935F 32GB Factory U...                NaN   \n",
       "343591  Samsung Galaxy S4 i9505 16GB LTE Unlocked Inte...            Samsung   \n",
       "331007  Samsung Galaxy Note II N7100 16GB Android Smar...            Samsung   \n",
       "307615  Samsung Galaxy Alpha G850a Unlocked Cellphone,...            Samsung   \n",
       "378366  Samsung Infuse I997 4G 16GB Unlocked GSM Andro...            Samsung   \n",
       "308756         Samsung Galaxy Exhibit 4G (T-Mobile), t679            Samsung   \n",
       "324901  Samsung Galaxy Note 3 N9005 Unlocked Cellphone...            Samsung   \n",
       "306759  Samsung Galaxy Ace 2 i8160 Black Factory Unloc...            Samsung   \n",
       "312171  Samsung Galaxy Grand Prime Dual Sim Factory Un...  Samsung Korea LTD   \n",
       "383246  Samsung SCH-i545 - Galaxy S4 16GB Android Smar...                NaN   \n",
       "310486  Samsung Galaxy Grand Duos i9082 Smartphone (Bl...            Samsung   \n",
       "371422  Samsung Galaxy S7 Edge Factory Unlocked Phone ...            Samsung   \n",
       "340553  Samsung Galaxy S3 SCH-I535 Verizon Phone, 16GB...            Samsung   \n",
       "383911  Samsung SCH-i545 Galaxy S4 16GB Android Smartp...                NaN   \n",
       "...                                                   ...                ...   \n",
       "350485  Samsung Galaxy S5 Mini G800F 16GB 4G LTE Unloc...                NaN   \n",
       "355982  Samsung Galaxy S5 SM-G900A GSM Unlocked Cellph...            Samsung   \n",
       "328667  Samsung Galaxy Note 4 SM-N910H N910 Factory Un...            Samsung   \n",
       "353937  Samsung Galaxy S5 Mini G800H Unlocked Cellphon...            Samsung   \n",
       "361528  Samsung Galaxy S6 Edge G925F 32GB Unlocked GSM...            Samsung   \n",
       "368374  Samsung Galaxy S6 SM-G920FD Factory Unlocked C...            Samsung   \n",
       "340292  Samsung Galaxy S3 NEO I9301i 16gb Factory Unlo...            Samsung   \n",
       "305771  Samsung G850F Galaxy Alpha Factory Unlocked Ce...            Samsung   \n",
       "335776  Samsung Galaxy S Duos II S7582 DUAL SIM Factor...            Samsung   \n",
       "322213  Samsung Galaxy Mega I9152 5.8\" Android Smart P...            Samsung   \n",
       "345553  Samsung Galaxy S4 SCH-I545 16GB Arctic Blue - ...                NaN   \n",
       "310832  Samsung Galaxy Grand Prime Dual Sim Factory Un...            Samsung   \n",
       "322303  Samsung Galaxy Nexus GT-I9250 Unlocked Cellpho...            Samsung   \n",
       "331775  Samsung Galaxy Note II N7100 16GB White-Unlock...            Samsung   \n",
       "332127          Samsung Galaxy Note II, White 16GB (AT&T)            Samsung   \n",
       "323943  Samsung Galaxy Note 3 N900 32GB Unlocked GSM 4...            Samsung   \n",
       "384928  Samsung Strive A687 Unlocked GSM Slider Phone ...            Samsung   \n",
       "316410  Samsung Galaxy J5 J500M 8GB Unlocked GSM 4G LT...            Samsung   \n",
       "346542  Samsung Galaxy S4 SGH-I337 Unlocked GSM Smartp...            Samsung   \n",
       "349835  Samsung Galaxy S5 Mini G800F 16GB 4G LTE Unloc...                NaN   \n",
       "358207  Samsung Galaxy S5 SM-G900H Factory Unlocked Ce...            Samsung   \n",
       "361730  Samsung Galaxy S6 Edge G925F 32GB Unlocked GSM...            Samsung   \n",
       "328783  Samsung Galaxy Note 5 DUOS N9208 32GB Gold Pla...            Samsung   \n",
       "360752  Samsung Galaxy S6 Edge G925A 32GB Unlocked GSM...            Unknown   \n",
       "325426  Samsung Galaxy Note 3 N900V 32GB Unlocked GSM ...                NaN   \n",
       "328129  Samsung Galaxy Note 4 SM-N910F 4G LTE White Fa...            Samsung   \n",
       "350525  Samsung Galaxy S5 Mini G800F 16GB 4G LTE Unloc...                NaN   \n",
       "374817  Samsung Galaxy S7 Factory Unlocked Phone 32 GB...            Samsung   \n",
       "376767  Samsung Gear S2 Classic SmartWatch - Black (Ce...            Samsung   \n",
       "313198  Samsung Galaxy Grand Prime DUOS G531H/DS - Gra...            Samsung   \n",
       "\n",
       "          Price  Rating                                            Reviews  \\\n",
       "374058   593.50       4              except samsung pay everything is good   \n",
       "329596   135.00       4  The charger didnt work, I suppose that it mean...   \n",
       "338730   125.85       5  I loved it and thanks so much because you made...   \n",
       "318931   227.14       1  I bought this phone for my mom and sent it to ...   \n",
       "363545   650.00       5  This phone is amazing. Beautiful camera qualit...   \n",
       "348205   228.98       1                           The camera does not work   \n",
       "311731   184.90       4                                               GOOD   \n",
       "368411   440.23       5  Excellent Phone!... Fast, can take a \"loading\"...   \n",
       "351534   239.00       5                                 excelente producto   \n",
       "339191   188.99       5                                          excelente   \n",
       "321946   249.99       5  That phone works great, first it did not want ...   \n",
       "332675      NaN       5  Phone was delivered on time and was exactly wh...   \n",
       "346884   183.99       5  Absolutely no issues with either the phone or ...   \n",
       "371934   616.99       5    Great phone, though can be very buggy at times.   \n",
       "352339  2000.00       1                                Has come a dual SIM   \n",
       "332307    39.99       5                                        Great Phone   \n",
       "373046   591.00       1  The charger which was sent with the phone does...   \n",
       "343591   168.68       5  \"Amazing experience with the seller. Item arri...   \n",
       "331007   288.99       5  Best phone i ever had. Completely satisfied. F...   \n",
       "307615   134.95       2  Condition said Good when I bought it. The cond...   \n",
       "378366   124.99       5  Nice phone. It will not run all apps you want ...   \n",
       "308756   119.99       2  Used this phone for a couple of months. Compar...   \n",
       "324901   325.16       1                              the screen gone black   \n",
       "306759    99.99       3         Didn't work but refunded without an issue.   \n",
       "312171   184.90       4                                     Very satisfied   \n",
       "383246   569.98       5  This phone came in generic packaging and was c...   \n",
       "310486   189.95       4  I like it but I have been having issues with t...   \n",
       "371422   644.99       5  retired my s6 and am very happy with all the a...   \n",
       "340553    92.50       4                                          excellent   \n",
       "383911   139.95       1             SMALL PHONE AND I HATE SMALL PHONES!!!   \n",
       "...         ...     ...                                                ...   \n",
       "350485   489.00       5                                             Great!   \n",
       "355982   234.00       3  Purchased two of these. One works great and as...   \n",
       "328667   449.99       5                                           excelent   \n",
       "353937   350.00       3  I bought this to replace my AT&T S3, which was...   \n",
       "361528   438.50       5                                              Cool!   \n",
       "368374   440.23       5  So far it appears to be working well. The phon...   \n",
       "340292   299.90       4  Well the product arrived as the date promises ...   \n",
       "305771   622.90       5                                         Well done!   \n",
       "335776   299.99       3  Hi I bought this phone it just arrived at my h...   \n",
       "322213   299.99       3                     the phone is ok but a bit slow   \n",
       "345553   149.99       4                                         Good phone   \n",
       "310832   194.90       5        I really liked and timeliness of the Store.   \n",
       "322303   179.00       5  I've had this phone for three weeks and so far...   \n",
       "331775   618.30       5  This is a good phone, reasonable price and qua...   \n",
       "332127   109.99       5                Good condition as advertised. Nice.   \n",
       "323943   249.99       5  Working with Israeli sim card no problem. Ship...   \n",
       "384928   199.99       1  this phone is advertised as a touchscreen and ...   \n",
       "316410   178.99       5  I absolutely love my J5. I got in Gold and it'...   \n",
       "346542   288.89       5  Loving the phone it was shipped quickly, easy ...   \n",
       "349835   299.00       3  LTE would not work in USA on S5 mini. You'll s...   \n",
       "358207   339.99       5                                       The best one   \n",
       "361730   438.50       5  Super happy with this phone. I had an S4 which...   \n",
       "328783   589.00       5                           PERFECT! LOVE THE PHONE!   \n",
       "360752   595.00       5                                       All Excelent   \n",
       "325426   379.99       4                                            Like it   \n",
       "328129   999.99       5                                             GOOD!!   \n",
       "350525   489.00       5                       Excelente, 100% recomendado.   \n",
       "374817   523.00       5  Good phone. Had what I requested. Came promptl...   \n",
       "376767   199.99       4  I purchased this watch on 11/09/2016. I must s...   \n",
       "313198   179.99       4  I liked it at first but is starting to lag alr...   \n",
       "\n",
       "        Review Votes  \n",
       "374058           0.0  \n",
       "329596           2.0  \n",
       "338730           0.0  \n",
       "318931           4.0  \n",
       "363545           3.0  \n",
       "348205           0.0  \n",
       "311731           0.0  \n",
       "368411           0.0  \n",
       "351534           0.0  \n",
       "339191           0.0  \n",
       "321946           0.0  \n",
       "332675           0.0  \n",
       "346884           0.0  \n",
       "371934           0.0  \n",
       "352339           1.0  \n",
       "332307           0.0  \n",
       "373046           1.0  \n",
       "343591           0.0  \n",
       "331007           2.0  \n",
       "307615           4.0  \n",
       "378366           1.0  \n",
       "308756           3.0  \n",
       "324901           0.0  \n",
       "306759           0.0  \n",
       "312171           0.0  \n",
       "383246           0.0  \n",
       "310486           0.0  \n",
       "371422           0.0  \n",
       "340553           0.0  \n",
       "383911           0.0  \n",
       "...              ...  \n",
       "350485           0.0  \n",
       "355982           1.0  \n",
       "328667           0.0  \n",
       "353937           0.0  \n",
       "361528           0.0  \n",
       "368374           1.0  \n",
       "340292           0.0  \n",
       "305771           0.0  \n",
       "335776          10.0  \n",
       "322213           1.0  \n",
       "345553           0.0  \n",
       "310832           0.0  \n",
       "322303           1.0  \n",
       "331775           0.0  \n",
       "332127           0.0  \n",
       "323943           1.0  \n",
       "384928           0.0  \n",
       "316410           1.0  \n",
       "346542           0.0  \n",
       "349835           0.0  \n",
       "358207           0.0  \n",
       "361730           0.0  \n",
       "328783           0.0  \n",
       "360752           0.0  \n",
       "325426           0.0  \n",
       "328129           0.0  \n",
       "350525           0.0  \n",
       "374817           0.0  \n",
       "376767           4.0  \n",
       "313198           0.0  \n",
       "\n",
       "[8234 rows x 6 columns]"
      ]
     },
     "execution_count": 7,
     "metadata": {},
     "output_type": "execute_result"
    }
   ],
   "source": [
    "import pandas as pd\n",
    "import numpy as np\n",
    "\n",
    "# Read in the data\n",
    "df = pd.read_csv('Amazon_Unlocked_Mobile.csv')\n",
    "\n",
    "# Sample the data to speed up computation\n",
    "# Comment out this line to match with lecture\n",
    "df = df.sample(frac=0.1, random_state=10)\n",
    "\n",
    "df[df['Product Name'].str.startswith('Samsung')]"
   ]
  },
  {
   "cell_type": "code",
   "execution_count": 8,
   "metadata": {},
   "outputs": [
    {
     "data": {
      "text/plain": [
       "array([ 0,  7, 14, 21, 28, 35])"
      ]
     },
     "execution_count": 8,
     "metadata": {},
     "output_type": "execute_result"
    }
   ],
   "source": [
    "import numpy as np\n",
    "a = np.reshape(np.arange(36),[6,6])\n",
    "a.reshape(36)[::7]"
   ]
  },
  {
   "cell_type": "code",
   "execution_count": 9,
   "metadata": {},
   "outputs": [
    {
     "data": {
      "text/html": [
       "<div>\n",
       "<style>\n",
       "    .dataframe thead tr:only-child th {\n",
       "        text-align: right;\n",
       "    }\n",
       "\n",
       "    .dataframe thead th {\n",
       "        text-align: left;\n",
       "    }\n",
       "\n",
       "    .dataframe tbody tr th {\n",
       "        vertical-align: top;\n",
       "    }\n",
       "</style>\n",
       "<table border=\"1\" class=\"dataframe\">\n",
       "  <thead>\n",
       "    <tr style=\"text-align: right;\">\n",
       "      <th></th>\n",
       "      <th>Product Name</th>\n",
       "      <th>Brand Name</th>\n",
       "      <th>Price</th>\n",
       "      <th>Rating</th>\n",
       "      <th>Reviews</th>\n",
       "      <th>Review Votes</th>\n",
       "      <th>Positively Rated</th>\n",
       "    </tr>\n",
       "  </thead>\n",
       "  <tbody>\n",
       "    <tr>\n",
       "      <th>34377</th>\n",
       "      <td>Apple iPhone 5c 8GB (Pink) - Verizon Wireless</td>\n",
       "      <td>Apple</td>\n",
       "      <td>194.99</td>\n",
       "      <td>1</td>\n",
       "      <td>The phone needed a SIM card, would have been n...</td>\n",
       "      <td>1.0</td>\n",
       "      <td>0</td>\n",
       "    </tr>\n",
       "    <tr>\n",
       "      <th>248521</th>\n",
       "      <td>Motorola Droid RAZR MAXX XT912 M Verizon Smart...</td>\n",
       "      <td>Motorola</td>\n",
       "      <td>174.99</td>\n",
       "      <td>5</td>\n",
       "      <td>I was 3 months away from my upgrade and my Str...</td>\n",
       "      <td>3.0</td>\n",
       "      <td>1</td>\n",
       "    </tr>\n",
       "    <tr>\n",
       "      <th>167661</th>\n",
       "      <td>CNPGD [U.S. Office Extended Warranty] Smartwat...</td>\n",
       "      <td>CNPGD</td>\n",
       "      <td>49.99</td>\n",
       "      <td>1</td>\n",
       "      <td>an experience i want to forget</td>\n",
       "      <td>0.0</td>\n",
       "      <td>0</td>\n",
       "    </tr>\n",
       "    <tr>\n",
       "      <th>73287</th>\n",
       "      <td>Apple iPhone 7 Unlocked Phone 256 GB - US Vers...</td>\n",
       "      <td>Apple</td>\n",
       "      <td>922.00</td>\n",
       "      <td>5</td>\n",
       "      <td>GREAT PHONE WORK ACCORDING MY EXPECTATIONS.</td>\n",
       "      <td>1.0</td>\n",
       "      <td>1</td>\n",
       "    </tr>\n",
       "    <tr>\n",
       "      <th>277158</th>\n",
       "      <td>Nokia N8 Unlocked GSM Touch Screen Phone Featu...</td>\n",
       "      <td>Nokia</td>\n",
       "      <td>95.00</td>\n",
       "      <td>5</td>\n",
       "      <td>I fell in love with this phone because it did ...</td>\n",
       "      <td>0.0</td>\n",
       "      <td>1</td>\n",
       "    </tr>\n",
       "    <tr>\n",
       "      <th>100311</th>\n",
       "      <td>Blackberry Torch 2 9810 Unlocked Phone with 1....</td>\n",
       "      <td>BlackBerry</td>\n",
       "      <td>77.49</td>\n",
       "      <td>5</td>\n",
       "      <td>I am pleased with this Blackberry phone! The p...</td>\n",
       "      <td>0.0</td>\n",
       "      <td>1</td>\n",
       "    </tr>\n",
       "    <tr>\n",
       "      <th>251669</th>\n",
       "      <td>Motorola Moto E (1st Generation) - Black - 4 G...</td>\n",
       "      <td>Motorola</td>\n",
       "      <td>89.99</td>\n",
       "      <td>5</td>\n",
       "      <td>Great product, best value for money smartphone...</td>\n",
       "      <td>0.0</td>\n",
       "      <td>1</td>\n",
       "    </tr>\n",
       "    <tr>\n",
       "      <th>279878</th>\n",
       "      <td>OtterBox 77-29864 Defender Series Hybrid Case ...</td>\n",
       "      <td>OtterBox</td>\n",
       "      <td>9.99</td>\n",
       "      <td>5</td>\n",
       "      <td>I've bought 3 no problems. Fast delivery.</td>\n",
       "      <td>0.0</td>\n",
       "      <td>1</td>\n",
       "    </tr>\n",
       "    <tr>\n",
       "      <th>406017</th>\n",
       "      <td>Verizon HTC Rezound 4G Android Smarphone - 8MP...</td>\n",
       "      <td>HTC</td>\n",
       "      <td>74.99</td>\n",
       "      <td>4</td>\n",
       "      <td>Great phone for the price...</td>\n",
       "      <td>0.0</td>\n",
       "      <td>1</td>\n",
       "    </tr>\n",
       "    <tr>\n",
       "      <th>302567</th>\n",
       "      <td>RCA M1 Unlocked Cell Phone, Dual Sim, 5Mp Came...</td>\n",
       "      <td>RCA</td>\n",
       "      <td>159.99</td>\n",
       "      <td>5</td>\n",
       "      <td>My mom is not good with new technoloy but this...</td>\n",
       "      <td>4.0</td>\n",
       "      <td>1</td>\n",
       "    </tr>\n",
       "  </tbody>\n",
       "</table>\n",
       "</div>"
      ],
      "text/plain": [
       "                                             Product Name  Brand Name   Price  \\\n",
       "34377       Apple iPhone 5c 8GB (Pink) - Verizon Wireless       Apple  194.99   \n",
       "248521  Motorola Droid RAZR MAXX XT912 M Verizon Smart...    Motorola  174.99   \n",
       "167661  CNPGD [U.S. Office Extended Warranty] Smartwat...       CNPGD   49.99   \n",
       "73287   Apple iPhone 7 Unlocked Phone 256 GB - US Vers...       Apple  922.00   \n",
       "277158  Nokia N8 Unlocked GSM Touch Screen Phone Featu...       Nokia   95.00   \n",
       "100311  Blackberry Torch 2 9810 Unlocked Phone with 1....  BlackBerry   77.49   \n",
       "251669  Motorola Moto E (1st Generation) - Black - 4 G...    Motorola   89.99   \n",
       "279878  OtterBox 77-29864 Defender Series Hybrid Case ...    OtterBox    9.99   \n",
       "406017  Verizon HTC Rezound 4G Android Smarphone - 8MP...         HTC   74.99   \n",
       "302567  RCA M1 Unlocked Cell Phone, Dual Sim, 5Mp Came...         RCA  159.99   \n",
       "\n",
       "        Rating                                            Reviews  \\\n",
       "34377        1  The phone needed a SIM card, would have been n...   \n",
       "248521       5  I was 3 months away from my upgrade and my Str...   \n",
       "167661       1                     an experience i want to forget   \n",
       "73287        5        GREAT PHONE WORK ACCORDING MY EXPECTATIONS.   \n",
       "277158       5  I fell in love with this phone because it did ...   \n",
       "100311       5  I am pleased with this Blackberry phone! The p...   \n",
       "251669       5  Great product, best value for money smartphone...   \n",
       "279878       5          I've bought 3 no problems. Fast delivery.   \n",
       "406017       4                       Great phone for the price...   \n",
       "302567       5  My mom is not good with new technoloy but this...   \n",
       "\n",
       "        Review Votes  Positively Rated  \n",
       "34377            1.0                 0  \n",
       "248521           3.0                 1  \n",
       "167661           0.0                 0  \n",
       "73287            1.0                 1  \n",
       "277158           0.0                 1  \n",
       "100311           0.0                 1  \n",
       "251669           0.0                 1  \n",
       "279878           0.0                 1  \n",
       "406017           0.0                 1  \n",
       "302567           4.0                 1  "
      ]
     },
     "execution_count": 9,
     "metadata": {},
     "output_type": "execute_result"
    }
   ],
   "source": [
    "# Drop missing values\n",
    "df.dropna(inplace=True)\n",
    "\n",
    "# Remove any 'neutral' ratings equal to 3\n",
    "df = df[df['Rating'] != 3]\n",
    "\n",
    "# Encode 4s and 5s as 1 (rated positively)\n",
    "# Encode 1s and 2s as 0 (rated poorly)\n",
    "df['Positively Rated'] = np.where(df['Rating'] > 3, 1, 0)\n",
    "df.head(10)"
   ]
  },
  {
   "cell_type": "code",
   "execution_count": 11,
   "metadata": {},
   "outputs": [
    {
     "data": {
      "text/plain": [
       "0.74717766860786672"
      ]
     },
     "execution_count": 11,
     "metadata": {},
     "output_type": "execute_result"
    }
   ],
   "source": [
    "# Most ratings are positive\n",
    "df['Positively Rated'].mean()"
   ]
  },
  {
   "cell_type": "code",
   "execution_count": 12,
   "metadata": {
    "collapsed": true
   },
   "outputs": [],
   "source": [
    "from sklearn.model_selection import train_test_split\n",
    "\n",
    "# Split data into training and test sets\n",
    "X_train, X_test, y_train, y_test = train_test_split(df['Reviews'], \n",
    "                                                    df['Positively Rated'], \n",
    "                                                    random_state=0)"
   ]
  },
  {
   "cell_type": "code",
   "execution_count": 13,
   "metadata": {},
   "outputs": [
    {
     "name": "stdout",
     "output_type": "stream",
     "text": [
      "X_train first entry:\n",
      "\n",
      " Everything about it is awesome!\n",
      "\n",
      "\n",
      "X_train shape:  (23052,)\n"
     ]
    }
   ],
   "source": [
    "print('X_train first entry:\\n\\n', X_train.iloc[0])\n",
    "print('\\n\\nX_train shape: ', X_train.shape)"
   ]
  },
  {
   "cell_type": "markdown",
   "metadata": {},
   "source": [
    "# CountVectorizer"
   ]
  },
  {
   "cell_type": "code",
   "execution_count": 14,
   "metadata": {
    "collapsed": true
   },
   "outputs": [],
   "source": [
    "from sklearn.feature_extraction.text import CountVectorizer\n",
    "\n",
    "# Fit the CountVectorizer to the training data\n",
    "vect = CountVectorizer().fit(X_train)"
   ]
  },
  {
   "cell_type": "code",
   "execution_count": 18,
   "metadata": {
    "scrolled": false
   },
   "outputs": [
    {
     "data": {
      "text/plain": [
       "['00', 'bravo', 'dvds', 'immidately', 'oil', 'rusted', 'tweak']"
      ]
     },
     "execution_count": 18,
     "metadata": {},
     "output_type": "execute_result"
    }
   ],
   "source": [
    "vect.get_feature_names()[::3000]"
   ]
  },
  {
   "cell_type": "code",
   "execution_count": 19,
   "metadata": {},
   "outputs": [
    {
     "data": {
      "text/plain": [
       "19601"
      ]
     },
     "execution_count": 19,
     "metadata": {},
     "output_type": "execute_result"
    }
   ],
   "source": [
    "len(vect.get_feature_names())"
   ]
  },
  {
   "cell_type": "code",
   "execution_count": 20,
   "metadata": {},
   "outputs": [
    {
     "data": {
      "text/plain": [
       "<23052x19601 sparse matrix of type '<class 'numpy.int64'>'\n",
       "\twith 613289 stored elements in Compressed Sparse Row format>"
      ]
     },
     "execution_count": 20,
     "metadata": {},
     "output_type": "execute_result"
    }
   ],
   "source": [
    "# transform the documents in the training data to a document-term matrix\n",
    "X_train_vectorized = vect.transform(X_train)\n",
    "\n",
    "X_train_vectorized # bag-of-word"
   ]
  },
  {
   "cell_type": "code",
   "execution_count": 21,
   "metadata": {},
   "outputs": [
    {
     "data": {
      "text/plain": [
       "LogisticRegression(C=1.0, class_weight=None, dual=False, fit_intercept=True,\n",
       "          intercept_scaling=1, max_iter=100, multi_class='ovr', n_jobs=1,\n",
       "          penalty='l2', random_state=None, solver='liblinear', tol=0.0001,\n",
       "          verbose=0, warm_start=False)"
      ]
     },
     "execution_count": 21,
     "metadata": {},
     "output_type": "execute_result"
    }
   ],
   "source": [
    "from sklearn.linear_model import LogisticRegression\n",
    "\n",
    "# Train the model\n",
    "model = LogisticRegression() # works for HD sparse data\n",
    "model.fit(X_train_vectorized, y_train) "
   ]
  },
  {
   "cell_type": "code",
   "execution_count": 22,
   "metadata": {},
   "outputs": [
    {
     "name": "stdout",
     "output_type": "stream",
     "text": [
      "AUC:  0.897433277667\n"
     ]
    }
   ],
   "source": [
    "from sklearn.metrics import roc_auc_score\n",
    "\n",
    "# Predict the transformed test documents\n",
    "predictions = model.predict(vect.transform(X_test))\n",
    "\n",
    "print('AUC: ', roc_auc_score(y_test, predictions))"
   ]
  },
  {
   "cell_type": "code",
   "execution_count": 23,
   "metadata": {
    "scrolled": true
   },
   "outputs": [
    {
     "name": "stdout",
     "output_type": "stream",
     "text": [
      "Smallest Coefs:\n",
      "['worst' 'terrible' 'slow' 'junk' 'poor' 'sucks' 'horrible' 'useless'\n",
      " 'waste' 'disappointed']\n",
      "\n",
      "Largest Coefs: \n",
      "['excelent' 'excelente' 'excellent' 'perfectly' 'love' 'perfect' 'exactly'\n",
      " 'great' 'best' 'awesome']\n"
     ]
    }
   ],
   "source": [
    "# get the feature names as numpy array\n",
    "feature_names = np.array(vect.get_feature_names())\n",
    "\n",
    "# Sort the coefficients from the model\n",
    "sorted_coef_index = model.coef_[0].argsort()\n",
    "\n",
    "# Find the 10 smallest and 10 largest coefficients\n",
    "# The 10 largest coefficients are being indexed using [:-11:-1] \n",
    "# so the list returned is in order of largest to smallest\n",
    "print('Smallest Coefs:\\n{}\\n'.format(feature_names[sorted_coef_index[:10]]))\n",
    "print('Largest Coefs: \\n{}'.format(feature_names[sorted_coef_index[:-11:-1]]))"
   ]
  },
  {
   "cell_type": "markdown",
   "metadata": {},
   "source": [
    "# Tfidf"
   ]
  },
  {
   "cell_type": "code",
   "execution_count": 24,
   "metadata": {},
   "outputs": [
    {
     "data": {
      "text/plain": [
       "5442"
      ]
     },
     "execution_count": 24,
     "metadata": {},
     "output_type": "execute_result"
    }
   ],
   "source": [
    "from sklearn.feature_extraction.text import TfidfVectorizer\n",
    "\n",
    "# Fit the TfidfVectorizer to the training data specifiying a minimum document frequency of 5\n",
    "vect = TfidfVectorizer(min_df=5).fit(X_train) # min_df: to shrink size of features\n",
    "len(vect.get_feature_names())"
   ]
  },
  {
   "cell_type": "code",
   "execution_count": 25,
   "metadata": {},
   "outputs": [
    {
     "name": "stdout",
     "output_type": "stream",
     "text": [
      "AUC:  0.889951006492\n"
     ]
    }
   ],
   "source": [
    "X_train_vectorized = vect.transform(X_train)\n",
    "\n",
    "model = LogisticRegression()\n",
    "model.fit(X_train_vectorized, y_train)\n",
    "\n",
    "predictions = model.predict(vect.transform(X_test))\n",
    "\n",
    "print('AUC: ', roc_auc_score(y_test, predictions))"
   ]
  },
  {
   "cell_type": "code",
   "execution_count": 16,
   "metadata": {},
   "outputs": [
    {
     "name": "stdout",
     "output_type": "stream",
     "text": [
      "Smallest tfidf:\n",
      "['61' 'printer' 'approach' 'adjustment' 'consequences' 'length' 'emailing'\n",
      " 'degrees' 'handsfree' 'chipset']\n",
      "\n",
      "Largest tfidf: \n",
      "['unlocked' 'handy' 'useless' 'cheat' 'up' 'original' 'exelent' 'exelente'\n",
      " 'exellent' 'satisfied']\n"
     ]
    }
   ],
   "source": [
    "feature_names = np.array(vect.get_feature_names())\n",
    "\n",
    "sorted_tfidf_index = X_train_vectorized.max(0).toarray()[0].argsort()\n",
    "\n",
    "print('Smallest tfidf:\\n{}\\n'.format(feature_names[sorted_tfidf_index[:10]]))\n",
    "print('Largest tfidf: \\n{}'.format(feature_names[sorted_tfidf_index[:-11:-1]]))"
   ]
  },
  {
   "cell_type": "code",
   "execution_count": 26,
   "metadata": {},
   "outputs": [
    {
     "name": "stdout",
     "output_type": "stream",
     "text": [
      "Smallest Coefs:\n",
      "['burns' 'contidion' 'aggressive' 'dfjkj' 'cumbersomeimprovement' 'bulging'\n",
      " 'comfortably' 'aircon' 'backlghting' 'descarga']\n",
      "\n",
      "Largest Coefs: \n",
      "['auction' 'blows' 'androidy' 'attach' '480x854' 'cardtransfering'\n",
      " 'channels' '3650' 'anywaytradeoff' 'carefree']\n"
     ]
    }
   ],
   "source": [
    "sorted_coef_index = model.coef_[0].argsort()\n",
    "\n",
    "print('Smallest Coefs:\\n{}\\n'.format(feature_names[sorted_coef_index[:10]]))\n",
    "print('Largest Coefs: \\n{}'.format(feature_names[sorted_coef_index[:-11:-1]]))"
   ]
  },
  {
   "cell_type": "code",
   "execution_count": 27,
   "metadata": {},
   "outputs": [
    {
     "name": "stdout",
     "output_type": "stream",
     "text": [
      "[0 0]\n"
     ]
    }
   ],
   "source": [
    "# These reviews are treated the same by our current model\n",
    "print(model.predict(vect.transform(['not an issue, phone is working',\n",
    "                                    'an issue, phone is not working'])))"
   ]
  },
  {
   "cell_type": "markdown",
   "metadata": {},
   "source": [
    "# n-grams"
   ]
  },
  {
   "cell_type": "code",
   "execution_count": 28,
   "metadata": {},
   "outputs": [
    {
     "data": {
      "text/plain": [
       "29072"
      ]
     },
     "execution_count": 28,
     "metadata": {},
     "output_type": "execute_result"
    }
   ],
   "source": [
    "# Fit the CountVectorizer to the training data specifiying a minimum \n",
    "# document frequency of 5 and extracting 1-grams and 2-grams\n",
    "vect = CountVectorizer(min_df=5, ngram_range=(1,2)).fit(X_train)\n",
    "\n",
    "X_train_vectorized = vect.transform(X_train)\n",
    "\n",
    "len(vect.get_feature_names())"
   ]
  },
  {
   "cell_type": "code",
   "execution_count": 29,
   "metadata": {},
   "outputs": [
    {
     "name": "stdout",
     "output_type": "stream",
     "text": [
      "AUC:  0.91106617946\n"
     ]
    }
   ],
   "source": [
    "model = LogisticRegression()\n",
    "model.fit(X_train_vectorized, y_train)\n",
    "\n",
    "predictions = model.predict(vect.transform(X_test))\n",
    "\n",
    "print('AUC: ', roc_auc_score(y_test, predictions))"
   ]
  },
  {
   "cell_type": "code",
   "execution_count": 30,
   "metadata": {},
   "outputs": [
    {
     "name": "stdout",
     "output_type": "stream",
     "text": [
      "Smallest Coefs:\n",
      "['no good' 'junk' 'poor' 'slow' 'worst' 'broken' 'not good' 'terrible'\n",
      " 'defective' 'horrible']\n",
      "\n",
      "Largest Coefs: \n",
      "['excellent' 'excelente' 'excelent' 'perfect' 'great' 'love' 'awesome'\n",
      " 'no problems' 'good' 'best']\n"
     ]
    }
   ],
   "source": [
    "feature_names = np.array(vect.get_feature_names())\n",
    "\n",
    "sorted_coef_index = model.coef_[0].argsort()\n",
    "\n",
    "print('Smallest Coefs:\\n{}\\n'.format(feature_names[sorted_coef_index[:10]]))\n",
    "print('Largest Coefs: \\n{}'.format(feature_names[sorted_coef_index[:-11:-1]]))"
   ]
  },
  {
   "cell_type": "code",
   "execution_count": 42,
   "metadata": {},
   "outputs": [
    {
     "name": "stdout",
     "output_type": "stream",
     "text": [
      "[1 0]\n"
     ]
    }
   ],
   "source": [
    "# These reviews are now correctly identified\n",
    "print(model.predict(vect.transform(['not an issue, phone is working',\n",
    "                                    'an issue, phone is not working'])))"
   ]
  }
 ],
 "metadata": {
  "kernelspec": {
   "display_name": "Python 3",
   "language": "python",
   "name": "python3"
  },
  "language_info": {
   "codemirror_mode": {
    "name": "ipython",
    "version": 3
   },
   "file_extension": ".py",
   "mimetype": "text/x-python",
   "name": "python",
   "nbconvert_exporter": "python",
   "pygments_lexer": "ipython3",
   "version": "3.6.2"
  }
 },
 "nbformat": 4,
 "nbformat_minor": 2
}
